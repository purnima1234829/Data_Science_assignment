{
 "cells": [
  {
   "cell_type": "code",
   "execution_count": 1,
   "metadata": {
    "id": "x17hEBijW2AP"
   },
   "outputs": [],
   "source": [
    "import pandas as pd\n",
    "import numpy as np\n",
    "import matplotlib.pyplot as plt\n",
    "from mlxtend.frequent_patterns import apriori, association_rules\n",
    "import seaborn as sns"
   ]
  },
  {
   "cell_type": "code",
   "execution_count": 4,
   "metadata": {
    "colab": {
     "base_uri": "https://localhost:8080/"
    },
    "id": "s9KN7hQTXAFr",
    "outputId": "eabf46d8-465b-4a6b-c808-bbbc68ab5f2e"
   },
   "outputs": [
    {
     "data": {
      "text/plain": [
       "(2000, 11)"
      ]
     },
     "execution_count": 4,
     "metadata": {},
     "output_type": "execute_result"
    }
   ],
   "source": [
    "books = pd.read_csv('C:/Users/WIN 10/Desktop/ExcelR/DS/Assignments/Association_Rule/book.csv')\n",
    "books.shape"
   ]
  },
  {
   "cell_type": "code",
   "execution_count": 5,
   "metadata": {
    "colab": {
     "base_uri": "https://localhost:8080/",
     "height": 204
    },
    "id": "t7c1Ko3pXRmj",
    "outputId": "e9689de1-4bdb-4d19-922f-9dfd5502fa3f"
   },
   "outputs": [
    {
     "data": {
      "text/html": [
       "<div>\n",
       "<style scoped>\n",
       "    .dataframe tbody tr th:only-of-type {\n",
       "        vertical-align: middle;\n",
       "    }\n",
       "\n",
       "    .dataframe tbody tr th {\n",
       "        vertical-align: top;\n",
       "    }\n",
       "\n",
       "    .dataframe thead th {\n",
       "        text-align: right;\n",
       "    }\n",
       "</style>\n",
       "<table border=\"1\" class=\"dataframe\">\n",
       "  <thead>\n",
       "    <tr style=\"text-align: right;\">\n",
       "      <th></th>\n",
       "      <th>ChildBks</th>\n",
       "      <th>YouthBks</th>\n",
       "      <th>CookBks</th>\n",
       "      <th>DoItYBks</th>\n",
       "      <th>RefBks</th>\n",
       "      <th>ArtBks</th>\n",
       "      <th>GeogBks</th>\n",
       "      <th>ItalCook</th>\n",
       "      <th>ItalAtlas</th>\n",
       "      <th>ItalArt</th>\n",
       "      <th>Florence</th>\n",
       "    </tr>\n",
       "  </thead>\n",
       "  <tbody>\n",
       "    <tr>\n",
       "      <th>0</th>\n",
       "      <td>0</td>\n",
       "      <td>1</td>\n",
       "      <td>0</td>\n",
       "      <td>1</td>\n",
       "      <td>0</td>\n",
       "      <td>0</td>\n",
       "      <td>1</td>\n",
       "      <td>0</td>\n",
       "      <td>0</td>\n",
       "      <td>0</td>\n",
       "      <td>0</td>\n",
       "    </tr>\n",
       "    <tr>\n",
       "      <th>1</th>\n",
       "      <td>1</td>\n",
       "      <td>0</td>\n",
       "      <td>0</td>\n",
       "      <td>0</td>\n",
       "      <td>0</td>\n",
       "      <td>0</td>\n",
       "      <td>0</td>\n",
       "      <td>0</td>\n",
       "      <td>0</td>\n",
       "      <td>0</td>\n",
       "      <td>0</td>\n",
       "    </tr>\n",
       "    <tr>\n",
       "      <th>2</th>\n",
       "      <td>0</td>\n",
       "      <td>0</td>\n",
       "      <td>0</td>\n",
       "      <td>0</td>\n",
       "      <td>0</td>\n",
       "      <td>0</td>\n",
       "      <td>0</td>\n",
       "      <td>0</td>\n",
       "      <td>0</td>\n",
       "      <td>0</td>\n",
       "      <td>0</td>\n",
       "    </tr>\n",
       "    <tr>\n",
       "      <th>3</th>\n",
       "      <td>1</td>\n",
       "      <td>1</td>\n",
       "      <td>1</td>\n",
       "      <td>0</td>\n",
       "      <td>1</td>\n",
       "      <td>0</td>\n",
       "      <td>1</td>\n",
       "      <td>0</td>\n",
       "      <td>0</td>\n",
       "      <td>0</td>\n",
       "      <td>0</td>\n",
       "    </tr>\n",
       "    <tr>\n",
       "      <th>4</th>\n",
       "      <td>0</td>\n",
       "      <td>0</td>\n",
       "      <td>1</td>\n",
       "      <td>0</td>\n",
       "      <td>0</td>\n",
       "      <td>0</td>\n",
       "      <td>1</td>\n",
       "      <td>0</td>\n",
       "      <td>0</td>\n",
       "      <td>0</td>\n",
       "      <td>0</td>\n",
       "    </tr>\n",
       "  </tbody>\n",
       "</table>\n",
       "</div>"
      ],
      "text/plain": [
       "   ChildBks  YouthBks  CookBks  DoItYBks  RefBks  ArtBks  GeogBks  ItalCook  \\\n",
       "0         0         1        0         1       0       0        1         0   \n",
       "1         1         0        0         0       0       0        0         0   \n",
       "2         0         0        0         0       0       0        0         0   \n",
       "3         1         1        1         0       1       0        1         0   \n",
       "4         0         0        1         0       0       0        1         0   \n",
       "\n",
       "   ItalAtlas  ItalArt  Florence  \n",
       "0          0        0         0  \n",
       "1          0        0         0  \n",
       "2          0        0         0  \n",
       "3          0        0         0  \n",
       "4          0        0         0  "
      ]
     },
     "execution_count": 5,
     "metadata": {},
     "output_type": "execute_result"
    }
   ],
   "source": [
    "books.head()"
   ]
  },
  {
   "cell_type": "code",
   "execution_count": 6,
   "metadata": {
    "colab": {
     "base_uri": "https://localhost:8080/"
    },
    "id": "J9Ahrs_1XXLK",
    "outputId": "d060b306-875d-4637-dd39-8dc6e1e0f6df"
   },
   "outputs": [
    {
     "name": "stdout",
     "output_type": "stream",
     "text": [
      "<class 'pandas.core.frame.DataFrame'>\n",
      "RangeIndex: 2000 entries, 0 to 1999\n",
      "Data columns (total 11 columns):\n",
      " #   Column     Non-Null Count  Dtype\n",
      "---  ------     --------------  -----\n",
      " 0   ChildBks   2000 non-null   int64\n",
      " 1   YouthBks   2000 non-null   int64\n",
      " 2   CookBks    2000 non-null   int64\n",
      " 3   DoItYBks   2000 non-null   int64\n",
      " 4   RefBks     2000 non-null   int64\n",
      " 5   ArtBks     2000 non-null   int64\n",
      " 6   GeogBks    2000 non-null   int64\n",
      " 7   ItalCook   2000 non-null   int64\n",
      " 8   ItalAtlas  2000 non-null   int64\n",
      " 9   ItalArt    2000 non-null   int64\n",
      " 10  Florence   2000 non-null   int64\n",
      "dtypes: int64(11)\n",
      "memory usage: 172.0 KB\n"
     ]
    }
   ],
   "source": [
    "books.info()"
   ]
  },
  {
   "cell_type": "code",
   "execution_count": 7,
   "metadata": {
    "colab": {
     "base_uri": "https://localhost:8080/",
     "height": 317
    },
    "id": "vxeDyzf1Xl1H",
    "outputId": "95adfa8b-67cf-4226-c3c7-889e32436c6c"
   },
   "outputs": [
    {
     "data": {
      "text/html": [
       "<div>\n",
       "<style scoped>\n",
       "    .dataframe tbody tr th:only-of-type {\n",
       "        vertical-align: middle;\n",
       "    }\n",
       "\n",
       "    .dataframe tbody tr th {\n",
       "        vertical-align: top;\n",
       "    }\n",
       "\n",
       "    .dataframe thead th {\n",
       "        text-align: right;\n",
       "    }\n",
       "</style>\n",
       "<table border=\"1\" class=\"dataframe\">\n",
       "  <thead>\n",
       "    <tr style=\"text-align: right;\">\n",
       "      <th></th>\n",
       "      <th>ChildBks</th>\n",
       "      <th>YouthBks</th>\n",
       "      <th>CookBks</th>\n",
       "      <th>DoItYBks</th>\n",
       "      <th>RefBks</th>\n",
       "      <th>ArtBks</th>\n",
       "      <th>GeogBks</th>\n",
       "      <th>ItalCook</th>\n",
       "      <th>ItalAtlas</th>\n",
       "      <th>ItalArt</th>\n",
       "      <th>Florence</th>\n",
       "    </tr>\n",
       "  </thead>\n",
       "  <tbody>\n",
       "    <tr>\n",
       "      <th>count</th>\n",
       "      <td>2000.000000</td>\n",
       "      <td>2000.000000</td>\n",
       "      <td>2000.00000</td>\n",
       "      <td>2000.000000</td>\n",
       "      <td>2000.000000</td>\n",
       "      <td>2000.000000</td>\n",
       "      <td>2000.000000</td>\n",
       "      <td>2000.000000</td>\n",
       "      <td>2000.000000</td>\n",
       "      <td>2000.000000</td>\n",
       "      <td>2000.000000</td>\n",
       "    </tr>\n",
       "    <tr>\n",
       "      <th>mean</th>\n",
       "      <td>0.423000</td>\n",
       "      <td>0.247500</td>\n",
       "      <td>0.43100</td>\n",
       "      <td>0.282000</td>\n",
       "      <td>0.214500</td>\n",
       "      <td>0.241000</td>\n",
       "      <td>0.276000</td>\n",
       "      <td>0.113500</td>\n",
       "      <td>0.037000</td>\n",
       "      <td>0.048500</td>\n",
       "      <td>0.108500</td>\n",
       "    </tr>\n",
       "    <tr>\n",
       "      <th>std</th>\n",
       "      <td>0.494159</td>\n",
       "      <td>0.431668</td>\n",
       "      <td>0.49534</td>\n",
       "      <td>0.450086</td>\n",
       "      <td>0.410578</td>\n",
       "      <td>0.427797</td>\n",
       "      <td>0.447129</td>\n",
       "      <td>0.317282</td>\n",
       "      <td>0.188809</td>\n",
       "      <td>0.214874</td>\n",
       "      <td>0.311089</td>\n",
       "    </tr>\n",
       "    <tr>\n",
       "      <th>min</th>\n",
       "      <td>0.000000</td>\n",
       "      <td>0.000000</td>\n",
       "      <td>0.00000</td>\n",
       "      <td>0.000000</td>\n",
       "      <td>0.000000</td>\n",
       "      <td>0.000000</td>\n",
       "      <td>0.000000</td>\n",
       "      <td>0.000000</td>\n",
       "      <td>0.000000</td>\n",
       "      <td>0.000000</td>\n",
       "      <td>0.000000</td>\n",
       "    </tr>\n",
       "    <tr>\n",
       "      <th>25%</th>\n",
       "      <td>0.000000</td>\n",
       "      <td>0.000000</td>\n",
       "      <td>0.00000</td>\n",
       "      <td>0.000000</td>\n",
       "      <td>0.000000</td>\n",
       "      <td>0.000000</td>\n",
       "      <td>0.000000</td>\n",
       "      <td>0.000000</td>\n",
       "      <td>0.000000</td>\n",
       "      <td>0.000000</td>\n",
       "      <td>0.000000</td>\n",
       "    </tr>\n",
       "    <tr>\n",
       "      <th>50%</th>\n",
       "      <td>0.000000</td>\n",
       "      <td>0.000000</td>\n",
       "      <td>0.00000</td>\n",
       "      <td>0.000000</td>\n",
       "      <td>0.000000</td>\n",
       "      <td>0.000000</td>\n",
       "      <td>0.000000</td>\n",
       "      <td>0.000000</td>\n",
       "      <td>0.000000</td>\n",
       "      <td>0.000000</td>\n",
       "      <td>0.000000</td>\n",
       "    </tr>\n",
       "    <tr>\n",
       "      <th>75%</th>\n",
       "      <td>1.000000</td>\n",
       "      <td>0.000000</td>\n",
       "      <td>1.00000</td>\n",
       "      <td>1.000000</td>\n",
       "      <td>0.000000</td>\n",
       "      <td>0.000000</td>\n",
       "      <td>1.000000</td>\n",
       "      <td>0.000000</td>\n",
       "      <td>0.000000</td>\n",
       "      <td>0.000000</td>\n",
       "      <td>0.000000</td>\n",
       "    </tr>\n",
       "    <tr>\n",
       "      <th>max</th>\n",
       "      <td>1.000000</td>\n",
       "      <td>1.000000</td>\n",
       "      <td>1.00000</td>\n",
       "      <td>1.000000</td>\n",
       "      <td>1.000000</td>\n",
       "      <td>1.000000</td>\n",
       "      <td>1.000000</td>\n",
       "      <td>1.000000</td>\n",
       "      <td>1.000000</td>\n",
       "      <td>1.000000</td>\n",
       "      <td>1.000000</td>\n",
       "    </tr>\n",
       "  </tbody>\n",
       "</table>\n",
       "</div>"
      ],
      "text/plain": [
       "          ChildBks     YouthBks     CookBks     DoItYBks       RefBks  \\\n",
       "count  2000.000000  2000.000000  2000.00000  2000.000000  2000.000000   \n",
       "mean      0.423000     0.247500     0.43100     0.282000     0.214500   \n",
       "std       0.494159     0.431668     0.49534     0.450086     0.410578   \n",
       "min       0.000000     0.000000     0.00000     0.000000     0.000000   \n",
       "25%       0.000000     0.000000     0.00000     0.000000     0.000000   \n",
       "50%       0.000000     0.000000     0.00000     0.000000     0.000000   \n",
       "75%       1.000000     0.000000     1.00000     1.000000     0.000000   \n",
       "max       1.000000     1.000000     1.00000     1.000000     1.000000   \n",
       "\n",
       "            ArtBks      GeogBks     ItalCook    ItalAtlas      ItalArt  \\\n",
       "count  2000.000000  2000.000000  2000.000000  2000.000000  2000.000000   \n",
       "mean      0.241000     0.276000     0.113500     0.037000     0.048500   \n",
       "std       0.427797     0.447129     0.317282     0.188809     0.214874   \n",
       "min       0.000000     0.000000     0.000000     0.000000     0.000000   \n",
       "25%       0.000000     0.000000     0.000000     0.000000     0.000000   \n",
       "50%       0.000000     0.000000     0.000000     0.000000     0.000000   \n",
       "75%       0.000000     1.000000     0.000000     0.000000     0.000000   \n",
       "max       1.000000     1.000000     1.000000     1.000000     1.000000   \n",
       "\n",
       "          Florence  \n",
       "count  2000.000000  \n",
       "mean      0.108500  \n",
       "std       0.311089  \n",
       "min       0.000000  \n",
       "25%       0.000000  \n",
       "50%       0.000000  \n",
       "75%       0.000000  \n",
       "max       1.000000  "
      ]
     },
     "execution_count": 7,
     "metadata": {},
     "output_type": "execute_result"
    }
   ],
   "source": [
    "books.describe()"
   ]
  },
  {
   "cell_type": "code",
   "execution_count": 8,
   "metadata": {
    "colab": {
     "base_uri": "https://localhost:8080/",
     "height": 1000
    },
    "id": "Au31ztvcXolU",
    "outputId": "f285ddfd-17b7-4e47-8d14-f557dd33bb55"
   },
   "outputs": [
    {
     "data": {
      "text/plain": [
       "<seaborn.axisgrid.PairGrid at 0x232dcaafc48>"
      ]
     },
     "execution_count": 8,
     "metadata": {},
     "output_type": "execute_result"
    },
    {
     "data": {
      "image/png": "[encoded data removed]",
      "text/plain": [
       "<Figure size 1980x1980 with 132 Axes>"
      ]
     },
     "metadata": {
      "needs_background": "light"
     },
     "output_type": "display_data"
    }
   ],
   "source": [
    "sns.pairplot(books)"
   ]
  },
  {
   "cell_type": "code",
   "execution_count": 9,
   "metadata": {
    "colab": {
     "base_uri": "https://localhost:8080/",
     "height": 298
    },
    "id": "EFTuspvPX2n3",
    "outputId": "9a497bff-bcfe-43ee-b5b0-1ce53b45e97f"
   },
   "outputs": [
    {
     "data": {
      "text/plain": [
       "<matplotlib.axes._subplots.AxesSubplot at 0x232e1c78308>"
      ]
     },
     "execution_count": 9,
     "metadata": {},
     "output_type": "execute_result"
    },
    {
     "data": {
      "image/png": "[encoded data removed]",
      "text/plain": [
       "<Figure size 432x288 with 1 Axes>"
      ]
     },
     "metadata": {
      "needs_background": "light"
     },
     "output_type": "display_data"
    }
   ],
   "source": [
    "sns.countplot(x ='ChildBks', data = books)"
   ]
  },
  {
   "cell_type": "code",
   "execution_count": 10,
   "metadata": {
    "colab": {
     "base_uri": "https://localhost:8080/",
     "height": 296
    },
    "id": "TYnrw2z8YM8Z",
    "outputId": "812a1d19-ce10-4105-b7d2-98ae7d714e03"
   },
   "outputs": [
    {
     "data": {
      "text/plain": [
       "<matplotlib.axes._subplots.AxesSubplot at 0x232e302c248>"
      ]
     },
     "execution_count": 10,
     "metadata": {},
     "output_type": "execute_result"
    },
    {
     "data": {
      "image/png": "[encoded data removed]",
      "text/plain": [
       "<Figure size 432x288 with 1 Axes>"
      ]
     },
     "metadata": {
      "needs_background": "light"
     },
     "output_type": "display_data"
    }
   ],
   "source": [
    "sns.countplot(x ='YouthBks', data = books)"
   ]
  },
  {
   "cell_type": "code",
   "execution_count": 11,
   "metadata": {
    "colab": {
     "base_uri": "https://localhost:8080/",
     "height": 296
    },
    "id": "xYJT8-jtYlhH",
    "outputId": "e9527a61-77b4-41b2-d0ec-ad2add903f90"
   },
   "outputs": [
    {
     "data": {
      "text/plain": [
       "<matplotlib.axes._subplots.AxesSubplot at 0x232e3fd0dc8>"
      ]
     },
     "execution_count": 11,
     "metadata": {},
     "output_type": "execute_result"
    },
    {
     "data": {
      "image/png": "[encoded data removed]",
      "text/plain": [
       "<Figure size 432x288 with 1 Axes>"
      ]
     },
     "metadata": {
      "needs_background": "light"
     },
     "output_type": "display_data"
    }
   ],
   "source": [
    "sns.countplot(x ='CookBks', data = books)"
   ]
  },
  {
   "cell_type": "code",
   "execution_count": 12,
   "metadata": {
    "colab": {
     "base_uri": "https://localhost:8080/",
     "height": 296
    },
    "id": "juSgPCYDYllb",
    "outputId": "a333b0ef-8244-4b7a-f264-dbe6d7ecb894"
   },
   "outputs": [
    {
     "data": {
      "text/plain": [
       "<matplotlib.axes._subplots.AxesSubplot at 0x232e3ff7cc8>"
      ]
     },
     "execution_count": 12,
     "metadata": {},
     "output_type": "execute_result"
    },
    {
     "data": {
      "image/png": "[encoded data removed]",
      "text/plain": [
       "<Figure size 432x288 with 1 Axes>"
      ]
     },
     "metadata": {
      "needs_background": "light"
     },
     "output_type": "display_data"
    }
   ],
   "source": [
    "sns.countplot(x ='DoItYBks', data = books)"
   ]
  },
  {
   "cell_type": "code",
   "execution_count": 13,
   "metadata": {
    "colab": {
     "base_uri": "https://localhost:8080/",
     "height": 296
    },
    "id": "Z0oBja5VYloR",
    "outputId": "33400ee2-c3f3-4a24-bd9b-ed33fbd922d4"
   },
   "outputs": [
    {
     "data": {
      "text/plain": [
       "<matplotlib.axes._subplots.AxesSubplot at 0x232e4054d88>"
      ]
     },
     "execution_count": 13,
     "metadata": {},
     "output_type": "execute_result"
    },
    {
     "data": {
      "image/png": "[encoded data removed]",
      "text/plain": [
       "<Figure size 432x288 with 1 Axes>"
      ]
     },
     "metadata": {
      "needs_background": "light"
     },
     "output_type": "display_data"
    }
   ],
   "source": [
    "sns.countplot(x ='RefBks', data = books)"
   ]
  },
  {
   "cell_type": "code",
   "execution_count": 14,
   "metadata": {
    "colab": {
     "base_uri": "https://localhost:8080/",
     "height": 296
    },
    "id": "QoGX6fb5YlrU",
    "outputId": "f5bd3ebc-58f8-4c6f-f6a8-af04f32fd9a9"
   },
   "outputs": [
    {
     "data": {
      "text/plain": [
       "<matplotlib.axes._subplots.AxesSubplot at 0x232e40b8388>"
      ]
     },
     "execution_count": 14,
     "metadata": {},
     "output_type": "execute_result"
    },
    {
     "data": {
      "image/png": "[encoded data removed]",
      "text/plain": [
       "<Figure size 432x288 with 1 Axes>"
      ]
     },
     "metadata": {
      "needs_background": "light"
     },
     "output_type": "display_data"
    }
   ],
   "source": [
    "sns.countplot(x ='ArtBks', data = books)"
   ]
  },
  {
   "cell_type": "code",
   "execution_count": 15,
   "metadata": {
    "colab": {
     "base_uri": "https://localhost:8080/",
     "height": 296
    },
    "id": "V3vWyWv9Ylu0",
    "outputId": "82ca97db-c8e0-4b3d-84ab-e2b82390558c"
   },
   "outputs": [
    {
     "data": {
      "text/plain": [
       "<matplotlib.axes._subplots.AxesSubplot at 0x232e4114548>"
      ]
     },
     "execution_count": 15,
     "metadata": {},
     "output_type": "execute_result"
    },
    {
     "data": {
      "image/png": "[encoded data removed]",
      "text/plain": [
       "<Figure size 432x288 with 1 Axes>"
      ]
     },
     "metadata": {
      "needs_background": "light"
     },
     "output_type": "display_data"
    }
   ],
   "source": [
    "sns.countplot(x ='GeogBks', data = books)"
   ]
  },
  {
   "cell_type": "code",
   "execution_count": 16,
   "metadata": {
    "colab": {
     "base_uri": "https://localhost:8080/",
     "height": 296
    },
    "id": "6npilP4lYlzP",
    "outputId": "001fcac1-426c-4b27-a356-472d4df052fe"
   },
   "outputs": [
    {
     "data": {
      "text/plain": [
       "<matplotlib.axes._subplots.AxesSubplot at 0x232e4166408>"
      ]
     },
     "execution_count": 16,
     "metadata": {},
     "output_type": "execute_result"
    },
    {
     "data": {
      "image/png": "[encoded data removed]",
      "text/plain": [
       "<Figure size 432x288 with 1 Axes>"
      ]
     },
     "metadata": {
      "needs_background": "light"
     },
     "output_type": "display_data"
    }
   ],
   "source": [
    "sns.countplot(x ='ItalCook', data = books)"
   ]
  },
  {
   "cell_type": "code",
   "execution_count": 17,
   "metadata": {
    "colab": {
     "base_uri": "https://localhost:8080/",
     "height": 298
    },
    "id": "ESPrAlo8Yl5O",
    "outputId": "7167efc0-310c-4f17-bfda-8a9ae951a9ae"
   },
   "outputs": [
    {
     "data": {
      "text/plain": [
       "<matplotlib.axes._subplots.AxesSubplot at 0x232e41ce9c8>"
      ]
     },
     "execution_count": 17,
     "metadata": {},
     "output_type": "execute_result"
    },
    {
     "data": {
      "image/png": "[encoded data removed]",
      "text/plain": [
       "<Figure size 432x288 with 1 Axes>"
      ]
     },
     "metadata": {
      "needs_background": "light"
     },
     "output_type": "display_data"
    }
   ],
   "source": [
    "sns.countplot(x ='ItalAtlas', data = books)"
   ]
  },
  {
   "cell_type": "code",
   "execution_count": 18,
   "metadata": {
    "colab": {
     "base_uri": "https://localhost:8080/",
     "height": 296
    },
    "id": "GmK7gyN0Yl8L",
    "outputId": "f8622bf8-0309-428b-ac3a-3422b9c630f6"
   },
   "outputs": [
    {
     "data": {
      "text/plain": [
       "<matplotlib.axes._subplots.AxesSubplot at 0x232e422c388>"
      ]
     },
     "execution_count": 18,
     "metadata": {},
     "output_type": "execute_result"
    },
    {
     "data": {
      "image/png": "[encoded data removed]",
      "text/plain": [
       "<Figure size 432x288 with 1 Axes>"
      ]
     },
     "metadata": {
      "needs_background": "light"
     },
     "output_type": "display_data"
    }
   ],
   "source": [
    "sns.countplot(x ='ItalArt', data = books)"
   ]
  },
  {
   "cell_type": "code",
   "execution_count": 19,
   "metadata": {
    "colab": {
     "base_uri": "https://localhost:8080/",
     "height": 296
    },
    "id": "f5gq_qC3Yl_j",
    "outputId": "08491ec6-6b27-4774-cf37-8a746bfce83a"
   },
   "outputs": [
    {
     "data": {
      "text/plain": [
       "<matplotlib.axes._subplots.AxesSubplot at 0x232e427b788>"
      ]
     },
     "execution_count": 19,
     "metadata": {},
     "output_type": "execute_result"
    },
    {
     "data": {
      "image/png": "[encoded data removed]",
      "text/plain": [
       "<Figure size 432x288 with 1 Axes>"
      ]
     },
     "metadata": {
      "needs_background": "light"
     },
     "output_type": "display_data"
    }
   ],
   "source": [
    "sns.countplot(x ='Florence', data = books)"
   ]
  },
  {
   "cell_type": "code",
   "execution_count": 20,
   "metadata": {
    "colab": {
     "base_uri": "https://localhost:8080/",
     "height": 419
    },
    "id": "pQyEPD7dZL8B",
    "outputId": "c16e663b-c81f-475c-f29a-0db65bd8a5e6"
   },
   "outputs": [
    {
     "data": {
      "text/html": [
       "<div>\n",
       "<style scoped>\n",
       "    .dataframe tbody tr th:only-of-type {\n",
       "        vertical-align: middle;\n",
       "    }\n",
       "\n",
       "    .dataframe tbody tr th {\n",
       "        vertical-align: top;\n",
       "    }\n",
       "\n",
       "    .dataframe thead th {\n",
       "        text-align: right;\n",
       "    }\n",
       "</style>\n",
       "<table border=\"1\" class=\"dataframe\">\n",
       "  <thead>\n",
       "    <tr style=\"text-align: right;\">\n",
       "      <th></th>\n",
       "      <th>support</th>\n",
       "      <th>itemsets</th>\n",
       "    </tr>\n",
       "  </thead>\n",
       "  <tbody>\n",
       "    <tr>\n",
       "      <th>0</th>\n",
       "      <td>0.4230</td>\n",
       "      <td>(ChildBks)</td>\n",
       "    </tr>\n",
       "    <tr>\n",
       "      <th>1</th>\n",
       "      <td>0.2475</td>\n",
       "      <td>(YouthBks)</td>\n",
       "    </tr>\n",
       "    <tr>\n",
       "      <th>2</th>\n",
       "      <td>0.4310</td>\n",
       "      <td>(CookBks)</td>\n",
       "    </tr>\n",
       "    <tr>\n",
       "      <th>3</th>\n",
       "      <td>0.2820</td>\n",
       "      <td>(DoItYBks)</td>\n",
       "    </tr>\n",
       "    <tr>\n",
       "      <th>4</th>\n",
       "      <td>0.2145</td>\n",
       "      <td>(RefBks)</td>\n",
       "    </tr>\n",
       "    <tr>\n",
       "      <th>...</th>\n",
       "      <td>...</td>\n",
       "      <td>...</td>\n",
       "    </tr>\n",
       "    <tr>\n",
       "      <th>71</th>\n",
       "      <td>0.0640</td>\n",
       "      <td>(GeogBks, ItalCook, CookBks)</td>\n",
       "    </tr>\n",
       "    <tr>\n",
       "      <th>72</th>\n",
       "      <td>0.0535</td>\n",
       "      <td>(RefBks, ArtBks, DoItYBks)</td>\n",
       "    </tr>\n",
       "    <tr>\n",
       "      <th>73</th>\n",
       "      <td>0.0585</td>\n",
       "      <td>(RefBks, GeogBks, DoItYBks)</td>\n",
       "    </tr>\n",
       "    <tr>\n",
       "      <th>74</th>\n",
       "      <td>0.0730</td>\n",
       "      <td>(GeogBks, ArtBks, DoItYBks)</td>\n",
       "    </tr>\n",
       "    <tr>\n",
       "      <th>75</th>\n",
       "      <td>0.0565</td>\n",
       "      <td>(RefBks, GeogBks, ArtBks)</td>\n",
       "    </tr>\n",
       "  </tbody>\n",
       "</table>\n",
       "<p>76 rows × 2 columns</p>\n",
       "</div>"
      ],
      "text/plain": [
       "    support                      itemsets\n",
       "0    0.4230                    (ChildBks)\n",
       "1    0.2475                    (YouthBks)\n",
       "2    0.4310                     (CookBks)\n",
       "3    0.2820                    (DoItYBks)\n",
       "4    0.2145                      (RefBks)\n",
       "..      ...                           ...\n",
       "71   0.0640  (GeogBks, ItalCook, CookBks)\n",
       "72   0.0535    (RefBks, ArtBks, DoItYBks)\n",
       "73   0.0585   (RefBks, GeogBks, DoItYBks)\n",
       "74   0.0730   (GeogBks, ArtBks, DoItYBks)\n",
       "75   0.0565     (RefBks, GeogBks, ArtBks)\n",
       "\n",
       "[76 rows x 2 columns]"
      ]
     },
     "execution_count": 20,
     "metadata": {},
     "output_type": "execute_result"
    }
   ],
   "source": [
    "freq_item = apriori(books, min_support = 0.05, use_colnames=True, max_len = 3)\n",
    "freq_item"
   ]
  },
  {
   "cell_type": "code",
   "execution_count": 21,
   "metadata": {
    "colab": {
     "base_uri": "https://localhost:8080/",
     "height": 419
    },
    "id": "G1wx2ps3Z-iO",
    "outputId": "7b8672c9-6b17-40f0-e6fa-823c0a256074"
   },
   "outputs": [
    {
     "data": {
      "text/html": [
       "<div>\n",
       "<style scoped>\n",
       "    .dataframe tbody tr th:only-of-type {\n",
       "        vertical-align: middle;\n",
       "    }\n",
       "\n",
       "    .dataframe tbody tr th {\n",
       "        vertical-align: top;\n",
       "    }\n",
       "\n",
       "    .dataframe thead th {\n",
       "        text-align: right;\n",
       "    }\n",
       "</style>\n",
       "<table border=\"1\" class=\"dataframe\">\n",
       "  <thead>\n",
       "    <tr style=\"text-align: right;\">\n",
       "      <th></th>\n",
       "      <th>antecedents</th>\n",
       "      <th>consequents</th>\n",
       "      <th>antecedent support</th>\n",
       "      <th>consequent support</th>\n",
       "      <th>support</th>\n",
       "      <th>confidence</th>\n",
       "      <th>lift</th>\n",
       "      <th>leverage</th>\n",
       "      <th>conviction</th>\n",
       "    </tr>\n",
       "  </thead>\n",
       "  <tbody>\n",
       "    <tr>\n",
       "      <th>0</th>\n",
       "      <td>(YouthBks)</td>\n",
       "      <td>(ChildBks)</td>\n",
       "      <td>0.2475</td>\n",
       "      <td>0.4230</td>\n",
       "      <td>0.1650</td>\n",
       "      <td>0.666667</td>\n",
       "      <td>1.576044</td>\n",
       "      <td>0.060308</td>\n",
       "      <td>1.731000</td>\n",
       "    </tr>\n",
       "    <tr>\n",
       "      <th>1</th>\n",
       "      <td>(ChildBks)</td>\n",
       "      <td>(YouthBks)</td>\n",
       "      <td>0.4230</td>\n",
       "      <td>0.2475</td>\n",
       "      <td>0.1650</td>\n",
       "      <td>0.390071</td>\n",
       "      <td>1.576044</td>\n",
       "      <td>0.060308</td>\n",
       "      <td>1.233750</td>\n",
       "    </tr>\n",
       "    <tr>\n",
       "      <th>2</th>\n",
       "      <td>(ChildBks)</td>\n",
       "      <td>(CookBks)</td>\n",
       "      <td>0.4230</td>\n",
       "      <td>0.4310</td>\n",
       "      <td>0.2560</td>\n",
       "      <td>0.605201</td>\n",
       "      <td>1.404179</td>\n",
       "      <td>0.073687</td>\n",
       "      <td>1.441240</td>\n",
       "    </tr>\n",
       "    <tr>\n",
       "      <th>3</th>\n",
       "      <td>(CookBks)</td>\n",
       "      <td>(ChildBks)</td>\n",
       "      <td>0.4310</td>\n",
       "      <td>0.4230</td>\n",
       "      <td>0.2560</td>\n",
       "      <td>0.593968</td>\n",
       "      <td>1.404179</td>\n",
       "      <td>0.073687</td>\n",
       "      <td>1.421069</td>\n",
       "    </tr>\n",
       "    <tr>\n",
       "      <th>4</th>\n",
       "      <td>(ChildBks)</td>\n",
       "      <td>(DoItYBks)</td>\n",
       "      <td>0.4230</td>\n",
       "      <td>0.2820</td>\n",
       "      <td>0.1840</td>\n",
       "      <td>0.434988</td>\n",
       "      <td>1.542511</td>\n",
       "      <td>0.064714</td>\n",
       "      <td>1.270770</td>\n",
       "    </tr>\n",
       "    <tr>\n",
       "      <th>...</th>\n",
       "      <td>...</td>\n",
       "      <td>...</td>\n",
       "      <td>...</td>\n",
       "      <td>...</td>\n",
       "      <td>...</td>\n",
       "      <td>...</td>\n",
       "      <td>...</td>\n",
       "      <td>...</td>\n",
       "      <td>...</td>\n",
       "    </tr>\n",
       "    <tr>\n",
       "      <th>289</th>\n",
       "      <td>(RefBks, ArtBks)</td>\n",
       "      <td>(GeogBks)</td>\n",
       "      <td>0.0895</td>\n",
       "      <td>0.2760</td>\n",
       "      <td>0.0565</td>\n",
       "      <td>0.631285</td>\n",
       "      <td>2.287264</td>\n",
       "      <td>0.031798</td>\n",
       "      <td>1.963576</td>\n",
       "    </tr>\n",
       "    <tr>\n",
       "      <th>290</th>\n",
       "      <td>(GeogBks, ArtBks)</td>\n",
       "      <td>(RefBks)</td>\n",
       "      <td>0.1275</td>\n",
       "      <td>0.2145</td>\n",
       "      <td>0.0565</td>\n",
       "      <td>0.443137</td>\n",
       "      <td>2.065908</td>\n",
       "      <td>0.029151</td>\n",
       "      <td>1.410581</td>\n",
       "    </tr>\n",
       "    <tr>\n",
       "      <th>291</th>\n",
       "      <td>(RefBks)</td>\n",
       "      <td>(GeogBks, ArtBks)</td>\n",
       "      <td>0.2145</td>\n",
       "      <td>0.1275</td>\n",
       "      <td>0.0565</td>\n",
       "      <td>0.263403</td>\n",
       "      <td>2.065908</td>\n",
       "      <td>0.029151</td>\n",
       "      <td>1.184502</td>\n",
       "    </tr>\n",
       "    <tr>\n",
       "      <th>292</th>\n",
       "      <td>(GeogBks)</td>\n",
       "      <td>(RefBks, ArtBks)</td>\n",
       "      <td>0.2760</td>\n",
       "      <td>0.0895</td>\n",
       "      <td>0.0565</td>\n",
       "      <td>0.204710</td>\n",
       "      <td>2.287264</td>\n",
       "      <td>0.031798</td>\n",
       "      <td>1.144866</td>\n",
       "    </tr>\n",
       "    <tr>\n",
       "      <th>293</th>\n",
       "      <td>(ArtBks)</td>\n",
       "      <td>(RefBks, GeogBks)</td>\n",
       "      <td>0.2410</td>\n",
       "      <td>0.1105</td>\n",
       "      <td>0.0565</td>\n",
       "      <td>0.234440</td>\n",
       "      <td>2.121627</td>\n",
       "      <td>0.029870</td>\n",
       "      <td>1.161894</td>\n",
       "    </tr>\n",
       "  </tbody>\n",
       "</table>\n",
       "<p>294 rows × 9 columns</p>\n",
       "</div>"
      ],
      "text/plain": [
       "           antecedents        consequents  antecedent support  \\\n",
       "0           (YouthBks)         (ChildBks)              0.2475   \n",
       "1           (ChildBks)         (YouthBks)              0.4230   \n",
       "2           (ChildBks)          (CookBks)              0.4230   \n",
       "3            (CookBks)         (ChildBks)              0.4310   \n",
       "4           (ChildBks)         (DoItYBks)              0.4230   \n",
       "..                 ...                ...                 ...   \n",
       "289   (RefBks, ArtBks)          (GeogBks)              0.0895   \n",
       "290  (GeogBks, ArtBks)           (RefBks)              0.1275   \n",
       "291           (RefBks)  (GeogBks, ArtBks)              0.2145   \n",
       "292          (GeogBks)   (RefBks, ArtBks)              0.2760   \n",
       "293           (ArtBks)  (RefBks, GeogBks)              0.2410   \n",
       "\n",
       "     consequent support  support  confidence      lift  leverage  conviction  \n",
       "0                0.4230   0.1650    0.666667  1.576044  0.060308    1.731000  \n",
       "1                0.2475   0.1650    0.390071  1.576044  0.060308    1.233750  \n",
       "2                0.4310   0.2560    0.605201  1.404179  0.073687    1.441240  \n",
       "3                0.4230   0.2560    0.593968  1.404179  0.073687    1.421069  \n",
       "4                0.2820   0.1840    0.434988  1.542511  0.064714    1.270770  \n",
       "..                  ...      ...         ...       ...       ...         ...  \n",
       "289              0.2760   0.0565    0.631285  2.287264  0.031798    1.963576  \n",
       "290              0.2145   0.0565    0.443137  2.065908  0.029151    1.410581  \n",
       "291              0.1275   0.0565    0.263403  2.065908  0.029151    1.184502  \n",
       "292              0.0895   0.0565    0.204710  2.287264  0.031798    1.144866  \n",
       "293              0.1105   0.0565    0.234440  2.121627  0.029870    1.161894  \n",
       "\n",
       "[294 rows x 9 columns]"
      ]
     },
     "execution_count": 21,
     "metadata": {},
     "output_type": "execute_result"
    }
   ],
   "source": [
    "rules = association_rules(freq_item, metric = 'lift', min_threshold= 0.9)\n",
    "rules"
   ]
  },
  {
   "cell_type": "code",
   "execution_count": 22,
   "metadata": {
    "colab": {
     "base_uri": "https://localhost:8080/",
     "height": 255
    },
    "id": "v2xP1JIzackM",
    "outputId": "4dbd62fe-3606-45c1-be48-53a30684d7cd"
   },
   "outputs": [
    {
     "data": {
      "text/html": [
       "<div>\n",
       "<style scoped>\n",
       "    .dataframe tbody tr th:only-of-type {\n",
       "        vertical-align: middle;\n",
       "    }\n",
       "\n",
       "    .dataframe tbody tr th {\n",
       "        vertical-align: top;\n",
       "    }\n",
       "\n",
       "    .dataframe thead th {\n",
       "        text-align: right;\n",
       "    }\n",
       "</style>\n",
       "<table border=\"1\" class=\"dataframe\">\n",
       "  <thead>\n",
       "    <tr style=\"text-align: right;\">\n",
       "      <th></th>\n",
       "      <th>antecedents</th>\n",
       "      <th>consequents</th>\n",
       "      <th>antecedent support</th>\n",
       "      <th>consequent support</th>\n",
       "      <th>support</th>\n",
       "      <th>confidence</th>\n",
       "      <th>lift</th>\n",
       "      <th>leverage</th>\n",
       "      <th>conviction</th>\n",
       "    </tr>\n",
       "  </thead>\n",
       "  <tbody>\n",
       "    <tr>\n",
       "      <th>184</th>\n",
       "      <td>(ItalCook)</td>\n",
       "      <td>(YouthBks, CookBks)</td>\n",
       "      <td>0.1135</td>\n",
       "      <td>0.1620</td>\n",
       "      <td>0.0590</td>\n",
       "      <td>0.519824</td>\n",
       "      <td>3.208789</td>\n",
       "      <td>0.040613</td>\n",
       "      <td>1.745193</td>\n",
       "    </tr>\n",
       "    <tr>\n",
       "      <th>181</th>\n",
       "      <td>(YouthBks, CookBks)</td>\n",
       "      <td>(ItalCook)</td>\n",
       "      <td>0.1620</td>\n",
       "      <td>0.1135</td>\n",
       "      <td>0.0590</td>\n",
       "      <td>0.364198</td>\n",
       "      <td>3.208789</td>\n",
       "      <td>0.040613</td>\n",
       "      <td>1.394301</td>\n",
       "    </tr>\n",
       "    <tr>\n",
       "      <th>262</th>\n",
       "      <td>(ItalCook)</td>\n",
       "      <td>(CookBks, ArtBks)</td>\n",
       "      <td>0.1135</td>\n",
       "      <td>0.1670</td>\n",
       "      <td>0.0565</td>\n",
       "      <td>0.497797</td>\n",
       "      <td>2.980822</td>\n",
       "      <td>0.037545</td>\n",
       "      <td>1.658693</td>\n",
       "    </tr>\n",
       "    <tr>\n",
       "      <th>259</th>\n",
       "      <td>(CookBks, ArtBks)</td>\n",
       "      <td>(ItalCook)</td>\n",
       "      <td>0.1670</td>\n",
       "      <td>0.1135</td>\n",
       "      <td>0.0565</td>\n",
       "      <td>0.338323</td>\n",
       "      <td>2.980822</td>\n",
       "      <td>0.037545</td>\n",
       "      <td>1.339778</td>\n",
       "    </tr>\n",
       "    <tr>\n",
       "      <th>265</th>\n",
       "      <td>(GeogBks, CookBks)</td>\n",
       "      <td>(ItalCook)</td>\n",
       "      <td>0.1925</td>\n",
       "      <td>0.1135</td>\n",
       "      <td>0.0640</td>\n",
       "      <td>0.332468</td>\n",
       "      <td>2.929229</td>\n",
       "      <td>0.042151</td>\n",
       "      <td>1.328025</td>\n",
       "    </tr>\n",
       "  </tbody>\n",
       "</table>\n",
       "</div>"
      ],
      "text/plain": [
       "             antecedents          consequents  antecedent support  \\\n",
       "184           (ItalCook)  (YouthBks, CookBks)              0.1135   \n",
       "181  (YouthBks, CookBks)           (ItalCook)              0.1620   \n",
       "262           (ItalCook)    (CookBks, ArtBks)              0.1135   \n",
       "259    (CookBks, ArtBks)           (ItalCook)              0.1670   \n",
       "265   (GeogBks, CookBks)           (ItalCook)              0.1925   \n",
       "\n",
       "     consequent support  support  confidence      lift  leverage  conviction  \n",
       "184              0.1620   0.0590    0.519824  3.208789  0.040613    1.745193  \n",
       "181              0.1135   0.0590    0.364198  3.208789  0.040613    1.394301  \n",
       "262              0.1670   0.0565    0.497797  2.980822  0.037545    1.658693  \n",
       "259              0.1135   0.0565    0.338323  2.980822  0.037545    1.339778  \n",
       "265              0.1135   0.0640    0.332468  2.929229  0.042151    1.328025  "
      ]
     },
     "execution_count": 22,
     "metadata": {},
     "output_type": "execute_result"
    }
   ],
   "source": [
    "# Top 5 rules by metric = lift\n",
    "\n",
    "rules.sort_values('lift', axis = 0, ascending= False).head(5)"
   ]
  },
  {
   "cell_type": "code",
   "execution_count": 23,
   "metadata": {
    "colab": {
     "base_uri": "https://localhost:8080/",
     "height": 1000
    },
    "id": "ryw0aAXwa37E",
    "outputId": "863822d7-2b3a-4ab6-fbec-014aed428e6e"
   },
   "outputs": [
    {
     "data": {
      "text/html": [
       "<div>\n",
       "<style scoped>\n",
       "    .dataframe tbody tr th:only-of-type {\n",
       "        vertical-align: middle;\n",
       "    }\n",
       "\n",
       "    .dataframe tbody tr th {\n",
       "        vertical-align: top;\n",
       "    }\n",
       "\n",
       "    .dataframe thead th {\n",
       "        text-align: right;\n",
       "    }\n",
       "</style>\n",
       "<table border=\"1\" class=\"dataframe\">\n",
       "  <thead>\n",
       "    <tr style=\"text-align: right;\">\n",
       "      <th></th>\n",
       "      <th>antecedents</th>\n",
       "      <th>consequents</th>\n",
       "      <th>antecedent support</th>\n",
       "      <th>consequent support</th>\n",
       "      <th>support</th>\n",
       "      <th>confidence</th>\n",
       "      <th>lift</th>\n",
       "      <th>leverage</th>\n",
       "      <th>conviction</th>\n",
       "    </tr>\n",
       "  </thead>\n",
       "  <tbody>\n",
       "    <tr>\n",
       "      <th>0</th>\n",
       "      <td>(RefBks)</td>\n",
       "      <td>(ChildBks)</td>\n",
       "      <td>0.2145</td>\n",
       "      <td>0.423</td>\n",
       "      <td>0.1515</td>\n",
       "      <td>0.706294</td>\n",
       "      <td>1.669725</td>\n",
       "      <td>0.060767</td>\n",
       "      <td>1.964548</td>\n",
       "    </tr>\n",
       "    <tr>\n",
       "      <th>1</th>\n",
       "      <td>(GeogBks)</td>\n",
       "      <td>(ChildBks)</td>\n",
       "      <td>0.2760</td>\n",
       "      <td>0.423</td>\n",
       "      <td>0.1950</td>\n",
       "      <td>0.706522</td>\n",
       "      <td>1.670264</td>\n",
       "      <td>0.078252</td>\n",
       "      <td>1.966074</td>\n",
       "    </tr>\n",
       "    <tr>\n",
       "      <th>2</th>\n",
       "      <td>(ItalCook)</td>\n",
       "      <td>(ChildBks)</td>\n",
       "      <td>0.1135</td>\n",
       "      <td>0.423</td>\n",
       "      <td>0.0850</td>\n",
       "      <td>0.748899</td>\n",
       "      <td>1.770446</td>\n",
       "      <td>0.036990</td>\n",
       "      <td>2.297877</td>\n",
       "    </tr>\n",
       "    <tr>\n",
       "      <th>3</th>\n",
       "      <td>(RefBks)</td>\n",
       "      <td>(CookBks)</td>\n",
       "      <td>0.2145</td>\n",
       "      <td>0.431</td>\n",
       "      <td>0.1525</td>\n",
       "      <td>0.710956</td>\n",
       "      <td>1.649549</td>\n",
       "      <td>0.060050</td>\n",
       "      <td>1.968556</td>\n",
       "    </tr>\n",
       "    <tr>\n",
       "      <th>4</th>\n",
       "      <td>(ItalCook)</td>\n",
       "      <td>(CookBks)</td>\n",
       "      <td>0.1135</td>\n",
       "      <td>0.431</td>\n",
       "      <td>0.1135</td>\n",
       "      <td>1.000000</td>\n",
       "      <td>2.320186</td>\n",
       "      <td>0.064582</td>\n",
       "      <td>inf</td>\n",
       "    </tr>\n",
       "    <tr>\n",
       "      <th>5</th>\n",
       "      <td>(YouthBks, ChildBks)</td>\n",
       "      <td>(CookBks)</td>\n",
       "      <td>0.1650</td>\n",
       "      <td>0.431</td>\n",
       "      <td>0.1290</td>\n",
       "      <td>0.781818</td>\n",
       "      <td>1.813963</td>\n",
       "      <td>0.057885</td>\n",
       "      <td>2.607917</td>\n",
       "    </tr>\n",
       "    <tr>\n",
       "      <th>6</th>\n",
       "      <td>(YouthBks, CookBks)</td>\n",
       "      <td>(ChildBks)</td>\n",
       "      <td>0.1620</td>\n",
       "      <td>0.423</td>\n",
       "      <td>0.1290</td>\n",
       "      <td>0.796296</td>\n",
       "      <td>1.882497</td>\n",
       "      <td>0.060474</td>\n",
       "      <td>2.832545</td>\n",
       "    </tr>\n",
       "    <tr>\n",
       "      <th>7</th>\n",
       "      <td>(YouthBks, DoItYBks)</td>\n",
       "      <td>(ChildBks)</td>\n",
       "      <td>0.1155</td>\n",
       "      <td>0.423</td>\n",
       "      <td>0.0950</td>\n",
       "      <td>0.822511</td>\n",
       "      <td>1.944470</td>\n",
       "      <td>0.046143</td>\n",
       "      <td>3.250902</td>\n",
       "    </tr>\n",
       "    <tr>\n",
       "      <th>8</th>\n",
       "      <td>(YouthBks, RefBks)</td>\n",
       "      <td>(ChildBks)</td>\n",
       "      <td>0.0965</td>\n",
       "      <td>0.423</td>\n",
       "      <td>0.0830</td>\n",
       "      <td>0.860104</td>\n",
       "      <td>2.033342</td>\n",
       "      <td>0.042181</td>\n",
       "      <td>4.124481</td>\n",
       "    </tr>\n",
       "    <tr>\n",
       "      <th>9</th>\n",
       "      <td>(YouthBks, ArtBks)</td>\n",
       "      <td>(ChildBks)</td>\n",
       "      <td>0.1010</td>\n",
       "      <td>0.423</td>\n",
       "      <td>0.0805</td>\n",
       "      <td>0.797030</td>\n",
       "      <td>1.884231</td>\n",
       "      <td>0.037777</td>\n",
       "      <td>2.842780</td>\n",
       "    </tr>\n",
       "    <tr>\n",
       "      <th>10</th>\n",
       "      <td>(YouthBks, GeogBks)</td>\n",
       "      <td>(ChildBks)</td>\n",
       "      <td>0.1205</td>\n",
       "      <td>0.423</td>\n",
       "      <td>0.0990</td>\n",
       "      <td>0.821577</td>\n",
       "      <td>1.942262</td>\n",
       "      <td>0.048029</td>\n",
       "      <td>3.233884</td>\n",
       "    </tr>\n",
       "    <tr>\n",
       "      <th>11</th>\n",
       "      <td>(ChildBks, DoItYBks)</td>\n",
       "      <td>(CookBks)</td>\n",
       "      <td>0.1840</td>\n",
       "      <td>0.431</td>\n",
       "      <td>0.1460</td>\n",
       "      <td>0.793478</td>\n",
       "      <td>1.841017</td>\n",
       "      <td>0.066696</td>\n",
       "      <td>2.755158</td>\n",
       "    </tr>\n",
       "    <tr>\n",
       "      <th>12</th>\n",
       "      <td>(CookBks, DoItYBks)</td>\n",
       "      <td>(ChildBks)</td>\n",
       "      <td>0.1875</td>\n",
       "      <td>0.423</td>\n",
       "      <td>0.1460</td>\n",
       "      <td>0.778667</td>\n",
       "      <td>1.840820</td>\n",
       "      <td>0.066687</td>\n",
       "      <td>2.606928</td>\n",
       "    </tr>\n",
       "    <tr>\n",
       "      <th>13</th>\n",
       "      <td>(RefBks, ChildBks)</td>\n",
       "      <td>(CookBks)</td>\n",
       "      <td>0.1515</td>\n",
       "      <td>0.431</td>\n",
       "      <td>0.1225</td>\n",
       "      <td>0.808581</td>\n",
       "      <td>1.876058</td>\n",
       "      <td>0.057204</td>\n",
       "      <td>2.972534</td>\n",
       "    </tr>\n",
       "    <tr>\n",
       "      <th>14</th>\n",
       "      <td>(RefBks, CookBks)</td>\n",
       "      <td>(ChildBks)</td>\n",
       "      <td>0.1525</td>\n",
       "      <td>0.423</td>\n",
       "      <td>0.1225</td>\n",
       "      <td>0.803279</td>\n",
       "      <td>1.899004</td>\n",
       "      <td>0.057993</td>\n",
       "      <td>2.933083</td>\n",
       "    </tr>\n",
       "    <tr>\n",
       "      <th>15</th>\n",
       "      <td>(ChildBks, ArtBks)</td>\n",
       "      <td>(CookBks)</td>\n",
       "      <td>0.1625</td>\n",
       "      <td>0.431</td>\n",
       "      <td>0.1265</td>\n",
       "      <td>0.778462</td>\n",
       "      <td>1.806175</td>\n",
       "      <td>0.056462</td>\n",
       "      <td>2.568403</td>\n",
       "    </tr>\n",
       "    <tr>\n",
       "      <th>16</th>\n",
       "      <td>(CookBks, ArtBks)</td>\n",
       "      <td>(ChildBks)</td>\n",
       "      <td>0.1670</td>\n",
       "      <td>0.423</td>\n",
       "      <td>0.1265</td>\n",
       "      <td>0.757485</td>\n",
       "      <td>1.790745</td>\n",
       "      <td>0.055859</td>\n",
       "      <td>2.379235</td>\n",
       "    </tr>\n",
       "    <tr>\n",
       "      <th>17</th>\n",
       "      <td>(GeogBks, ChildBks)</td>\n",
       "      <td>(CookBks)</td>\n",
       "      <td>0.1950</td>\n",
       "      <td>0.431</td>\n",
       "      <td>0.1495</td>\n",
       "      <td>0.766667</td>\n",
       "      <td>1.778809</td>\n",
       "      <td>0.065455</td>\n",
       "      <td>2.438571</td>\n",
       "    </tr>\n",
       "    <tr>\n",
       "      <th>18</th>\n",
       "      <td>(GeogBks, CookBks)</td>\n",
       "      <td>(ChildBks)</td>\n",
       "      <td>0.1925</td>\n",
       "      <td>0.423</td>\n",
       "      <td>0.1495</td>\n",
       "      <td>0.776623</td>\n",
       "      <td>1.835989</td>\n",
       "      <td>0.068072</td>\n",
       "      <td>2.583081</td>\n",
       "    </tr>\n",
       "    <tr>\n",
       "      <th>19</th>\n",
       "      <td>(ChildBks, ItalCook)</td>\n",
       "      <td>(CookBks)</td>\n",
       "      <td>0.0850</td>\n",
       "      <td>0.431</td>\n",
       "      <td>0.0850</td>\n",
       "      <td>1.000000</td>\n",
       "      <td>2.320186</td>\n",
       "      <td>0.048365</td>\n",
       "      <td>inf</td>\n",
       "    </tr>\n",
       "    <tr>\n",
       "      <th>20</th>\n",
       "      <td>(ItalCook, CookBks)</td>\n",
       "      <td>(ChildBks)</td>\n",
       "      <td>0.1135</td>\n",
       "      <td>0.423</td>\n",
       "      <td>0.0850</td>\n",
       "      <td>0.748899</td>\n",
       "      <td>1.770446</td>\n",
       "      <td>0.036990</td>\n",
       "      <td>2.297877</td>\n",
       "    </tr>\n",
       "    <tr>\n",
       "      <th>21</th>\n",
       "      <td>(ItalCook)</td>\n",
       "      <td>(ChildBks, CookBks)</td>\n",
       "      <td>0.1135</td>\n",
       "      <td>0.256</td>\n",
       "      <td>0.0850</td>\n",
       "      <td>0.748899</td>\n",
       "      <td>2.925385</td>\n",
       "      <td>0.055944</td>\n",
       "      <td>2.962947</td>\n",
       "    </tr>\n",
       "    <tr>\n",
       "      <th>22</th>\n",
       "      <td>(RefBks, DoItYBks)</td>\n",
       "      <td>(ChildBks)</td>\n",
       "      <td>0.1055</td>\n",
       "      <td>0.423</td>\n",
       "      <td>0.0900</td>\n",
       "      <td>0.853081</td>\n",
       "      <td>2.016739</td>\n",
       "      <td>0.045373</td>\n",
       "      <td>3.927323</td>\n",
       "    </tr>\n",
       "    <tr>\n",
       "      <th>23</th>\n",
       "      <td>(ArtBks, DoItYBks)</td>\n",
       "      <td>(ChildBks)</td>\n",
       "      <td>0.1235</td>\n",
       "      <td>0.423</td>\n",
       "      <td>0.0950</td>\n",
       "      <td>0.769231</td>\n",
       "      <td>1.818512</td>\n",
       "      <td>0.042760</td>\n",
       "      <td>2.500333</td>\n",
       "    </tr>\n",
       "    <tr>\n",
       "      <th>24</th>\n",
       "      <td>(GeogBks, DoItYBks)</td>\n",
       "      <td>(ChildBks)</td>\n",
       "      <td>0.1325</td>\n",
       "      <td>0.423</td>\n",
       "      <td>0.1045</td>\n",
       "      <td>0.788679</td>\n",
       "      <td>1.864490</td>\n",
       "      <td>0.048452</td>\n",
       "      <td>2.730446</td>\n",
       "    </tr>\n",
       "    <tr>\n",
       "      <th>25</th>\n",
       "      <td>(RefBks, ArtBks)</td>\n",
       "      <td>(ChildBks)</td>\n",
       "      <td>0.0895</td>\n",
       "      <td>0.423</td>\n",
       "      <td>0.0760</td>\n",
       "      <td>0.849162</td>\n",
       "      <td>2.007475</td>\n",
       "      <td>0.038142</td>\n",
       "      <td>3.825296</td>\n",
       "    </tr>\n",
       "    <tr>\n",
       "      <th>26</th>\n",
       "      <td>(RefBks, GeogBks)</td>\n",
       "      <td>(ChildBks)</td>\n",
       "      <td>0.1105</td>\n",
       "      <td>0.423</td>\n",
       "      <td>0.0940</td>\n",
       "      <td>0.850679</td>\n",
       "      <td>2.011061</td>\n",
       "      <td>0.047259</td>\n",
       "      <td>3.864152</td>\n",
       "    </tr>\n",
       "    <tr>\n",
       "      <th>27</th>\n",
       "      <td>(GeogBks, ArtBks)</td>\n",
       "      <td>(ChildBks)</td>\n",
       "      <td>0.1275</td>\n",
       "      <td>0.423</td>\n",
       "      <td>0.1020</td>\n",
       "      <td>0.800000</td>\n",
       "      <td>1.891253</td>\n",
       "      <td>0.048067</td>\n",
       "      <td>2.885000</td>\n",
       "    </tr>\n",
       "    <tr>\n",
       "      <th>28</th>\n",
       "      <td>(GeogBks, ItalCook)</td>\n",
       "      <td>(ChildBks)</td>\n",
       "      <td>0.0640</td>\n",
       "      <td>0.423</td>\n",
       "      <td>0.0525</td>\n",
       "      <td>0.820312</td>\n",
       "      <td>1.939273</td>\n",
       "      <td>0.025428</td>\n",
       "      <td>3.211130</td>\n",
       "    </tr>\n",
       "    <tr>\n",
       "      <th>29</th>\n",
       "      <td>(YouthBks, DoItYBks)</td>\n",
       "      <td>(CookBks)</td>\n",
       "      <td>0.1155</td>\n",
       "      <td>0.431</td>\n",
       "      <td>0.0950</td>\n",
       "      <td>0.822511</td>\n",
       "      <td>1.908378</td>\n",
       "      <td>0.045220</td>\n",
       "      <td>3.205829</td>\n",
       "    </tr>\n",
       "    <tr>\n",
       "      <th>30</th>\n",
       "      <td>(YouthBks, RefBks)</td>\n",
       "      <td>(CookBks)</td>\n",
       "      <td>0.0965</td>\n",
       "      <td>0.431</td>\n",
       "      <td>0.0775</td>\n",
       "      <td>0.803109</td>\n",
       "      <td>1.863362</td>\n",
       "      <td>0.035908</td>\n",
       "      <td>2.889921</td>\n",
       "    </tr>\n",
       "    <tr>\n",
       "      <th>31</th>\n",
       "      <td>(YouthBks, ArtBks)</td>\n",
       "      <td>(CookBks)</td>\n",
       "      <td>0.1010</td>\n",
       "      <td>0.431</td>\n",
       "      <td>0.0810</td>\n",
       "      <td>0.801980</td>\n",
       "      <td>1.860743</td>\n",
       "      <td>0.037469</td>\n",
       "      <td>2.873450</td>\n",
       "    </tr>\n",
       "    <tr>\n",
       "      <th>32</th>\n",
       "      <td>(YouthBks, GeogBks)</td>\n",
       "      <td>(CookBks)</td>\n",
       "      <td>0.1205</td>\n",
       "      <td>0.431</td>\n",
       "      <td>0.0970</td>\n",
       "      <td>0.804979</td>\n",
       "      <td>1.867701</td>\n",
       "      <td>0.045065</td>\n",
       "      <td>2.917638</td>\n",
       "    </tr>\n",
       "    <tr>\n",
       "      <th>33</th>\n",
       "      <td>(YouthBks, ItalCook)</td>\n",
       "      <td>(CookBks)</td>\n",
       "      <td>0.0590</td>\n",
       "      <td>0.431</td>\n",
       "      <td>0.0590</td>\n",
       "      <td>1.000000</td>\n",
       "      <td>2.320186</td>\n",
       "      <td>0.033571</td>\n",
       "      <td>inf</td>\n",
       "    </tr>\n",
       "    <tr>\n",
       "      <th>34</th>\n",
       "      <td>(RefBks, DoItYBks)</td>\n",
       "      <td>(CookBks)</td>\n",
       "      <td>0.1055</td>\n",
       "      <td>0.431</td>\n",
       "      <td>0.0845</td>\n",
       "      <td>0.800948</td>\n",
       "      <td>1.858348</td>\n",
       "      <td>0.039030</td>\n",
       "      <td>2.858548</td>\n",
       "    </tr>\n",
       "    <tr>\n",
       "      <th>35</th>\n",
       "      <td>(ArtBks, DoItYBks)</td>\n",
       "      <td>(CookBks)</td>\n",
       "      <td>0.1235</td>\n",
       "      <td>0.431</td>\n",
       "      <td>0.1015</td>\n",
       "      <td>0.821862</td>\n",
       "      <td>1.906873</td>\n",
       "      <td>0.048272</td>\n",
       "      <td>3.194159</td>\n",
       "    </tr>\n",
       "    <tr>\n",
       "      <th>36</th>\n",
       "      <td>(GeogBks, DoItYBks)</td>\n",
       "      <td>(CookBks)</td>\n",
       "      <td>0.1325</td>\n",
       "      <td>0.431</td>\n",
       "      <td>0.1085</td>\n",
       "      <td>0.818868</td>\n",
       "      <td>1.899926</td>\n",
       "      <td>0.051392</td>\n",
       "      <td>3.141354</td>\n",
       "    </tr>\n",
       "    <tr>\n",
       "      <th>37</th>\n",
       "      <td>(ItalCook, DoItYBks)</td>\n",
       "      <td>(CookBks)</td>\n",
       "      <td>0.0585</td>\n",
       "      <td>0.431</td>\n",
       "      <td>0.0585</td>\n",
       "      <td>1.000000</td>\n",
       "      <td>2.320186</td>\n",
       "      <td>0.033287</td>\n",
       "      <td>inf</td>\n",
       "    </tr>\n",
       "    <tr>\n",
       "      <th>38</th>\n",
       "      <td>(RefBks, ArtBks)</td>\n",
       "      <td>(CookBks)</td>\n",
       "      <td>0.0895</td>\n",
       "      <td>0.431</td>\n",
       "      <td>0.0700</td>\n",
       "      <td>0.782123</td>\n",
       "      <td>1.814670</td>\n",
       "      <td>0.031426</td>\n",
       "      <td>2.611564</td>\n",
       "    </tr>\n",
       "    <tr>\n",
       "      <th>39</th>\n",
       "      <td>(RefBks, GeogBks)</td>\n",
       "      <td>(CookBks)</td>\n",
       "      <td>0.1105</td>\n",
       "      <td>0.431</td>\n",
       "      <td>0.0890</td>\n",
       "      <td>0.805430</td>\n",
       "      <td>1.868747</td>\n",
       "      <td>0.041374</td>\n",
       "      <td>2.924395</td>\n",
       "    </tr>\n",
       "    <tr>\n",
       "      <th>40</th>\n",
       "      <td>(GeogBks, ArtBks)</td>\n",
       "      <td>(CookBks)</td>\n",
       "      <td>0.1275</td>\n",
       "      <td>0.431</td>\n",
       "      <td>0.1035</td>\n",
       "      <td>0.811765</td>\n",
       "      <td>1.883445</td>\n",
       "      <td>0.048547</td>\n",
       "      <td>3.022812</td>\n",
       "    </tr>\n",
       "    <tr>\n",
       "      <th>41</th>\n",
       "      <td>(ItalCook, ArtBks)</td>\n",
       "      <td>(CookBks)</td>\n",
       "      <td>0.0565</td>\n",
       "      <td>0.431</td>\n",
       "      <td>0.0565</td>\n",
       "      <td>1.000000</td>\n",
       "      <td>2.320186</td>\n",
       "      <td>0.032148</td>\n",
       "      <td>inf</td>\n",
       "    </tr>\n",
       "    <tr>\n",
       "      <th>42</th>\n",
       "      <td>(GeogBks, ItalCook)</td>\n",
       "      <td>(CookBks)</td>\n",
       "      <td>0.0640</td>\n",
       "      <td>0.431</td>\n",
       "      <td>0.0640</td>\n",
       "      <td>1.000000</td>\n",
       "      <td>2.320186</td>\n",
       "      <td>0.036416</td>\n",
       "      <td>inf</td>\n",
       "    </tr>\n",
       "  </tbody>\n",
       "</table>\n",
       "</div>"
      ],
      "text/plain": [
       "             antecedents          consequents  antecedent support  \\\n",
       "0               (RefBks)           (ChildBks)              0.2145   \n",
       "1              (GeogBks)           (ChildBks)              0.2760   \n",
       "2             (ItalCook)           (ChildBks)              0.1135   \n",
       "3               (RefBks)            (CookBks)              0.2145   \n",
       "4             (ItalCook)            (CookBks)              0.1135   \n",
       "5   (YouthBks, ChildBks)            (CookBks)              0.1650   \n",
       "6    (YouthBks, CookBks)           (ChildBks)              0.1620   \n",
       "7   (YouthBks, DoItYBks)           (ChildBks)              0.1155   \n",
       "8     (YouthBks, RefBks)           (ChildBks)              0.0965   \n",
       "9     (YouthBks, ArtBks)           (ChildBks)              0.1010   \n",
       "10   (YouthBks, GeogBks)           (ChildBks)              0.1205   \n",
       "11  (ChildBks, DoItYBks)            (CookBks)              0.1840   \n",
       "12   (CookBks, DoItYBks)           (ChildBks)              0.1875   \n",
       "13    (RefBks, ChildBks)            (CookBks)              0.1515   \n",
       "14     (RefBks, CookBks)           (ChildBks)              0.1525   \n",
       "15    (ChildBks, ArtBks)            (CookBks)              0.1625   \n",
       "16     (CookBks, ArtBks)           (ChildBks)              0.1670   \n",
       "17   (GeogBks, ChildBks)            (CookBks)              0.1950   \n",
       "18    (GeogBks, CookBks)           (ChildBks)              0.1925   \n",
       "19  (ChildBks, ItalCook)            (CookBks)              0.0850   \n",
       "20   (ItalCook, CookBks)           (ChildBks)              0.1135   \n",
       "21            (ItalCook)  (ChildBks, CookBks)              0.1135   \n",
       "22    (RefBks, DoItYBks)           (ChildBks)              0.1055   \n",
       "23    (ArtBks, DoItYBks)           (ChildBks)              0.1235   \n",
       "24   (GeogBks, DoItYBks)           (ChildBks)              0.1325   \n",
       "25      (RefBks, ArtBks)           (ChildBks)              0.0895   \n",
       "26     (RefBks, GeogBks)           (ChildBks)              0.1105   \n",
       "27     (GeogBks, ArtBks)           (ChildBks)              0.1275   \n",
       "28   (GeogBks, ItalCook)           (ChildBks)              0.0640   \n",
       "29  (YouthBks, DoItYBks)            (CookBks)              0.1155   \n",
       "30    (YouthBks, RefBks)            (CookBks)              0.0965   \n",
       "31    (YouthBks, ArtBks)            (CookBks)              0.1010   \n",
       "32   (YouthBks, GeogBks)            (CookBks)              0.1205   \n",
       "33  (YouthBks, ItalCook)            (CookBks)              0.0590   \n",
       "34    (RefBks, DoItYBks)            (CookBks)              0.1055   \n",
       "35    (ArtBks, DoItYBks)            (CookBks)              0.1235   \n",
       "36   (GeogBks, DoItYBks)            (CookBks)              0.1325   \n",
       "37  (ItalCook, DoItYBks)            (CookBks)              0.0585   \n",
       "38      (RefBks, ArtBks)            (CookBks)              0.0895   \n",
       "39     (RefBks, GeogBks)            (CookBks)              0.1105   \n",
       "40     (GeogBks, ArtBks)            (CookBks)              0.1275   \n",
       "41    (ItalCook, ArtBks)            (CookBks)              0.0565   \n",
       "42   (GeogBks, ItalCook)            (CookBks)              0.0640   \n",
       "\n",
       "    consequent support  support  confidence      lift  leverage  conviction  \n",
       "0                0.423   0.1515    0.706294  1.669725  0.060767    1.964548  \n",
       "1                0.423   0.1950    0.706522  1.670264  0.078252    1.966074  \n",
       "2                0.423   0.0850    0.748899  1.770446  0.036990    2.297877  \n",
       "3                0.431   0.1525    0.710956  1.649549  0.060050    1.968556  \n",
       "4                0.431   0.1135    1.000000  2.320186  0.064582         inf  \n",
       "5                0.431   0.1290    0.781818  1.813963  0.057885    2.607917  \n",
       "6                0.423   0.1290    0.796296  1.882497  0.060474    2.832545  \n",
       "7                0.423   0.0950    0.822511  1.944470  0.046143    3.250902  \n",
       "8                0.423   0.0830    0.860104  2.033342  0.042181    4.124481  \n",
       "9                0.423   0.0805    0.797030  1.884231  0.037777    2.842780  \n",
       "10               0.423   0.0990    0.821577  1.942262  0.048029    3.233884  \n",
       "11               0.431   0.1460    0.793478  1.841017  0.066696    2.755158  \n",
       "12               0.423   0.1460    0.778667  1.840820  0.066687    2.606928  \n",
       "13               0.431   0.1225    0.808581  1.876058  0.057204    2.972534  \n",
       "14               0.423   0.1225    0.803279  1.899004  0.057993    2.933083  \n",
       "15               0.431   0.1265    0.778462  1.806175  0.056462    2.568403  \n",
       "16               0.423   0.1265    0.757485  1.790745  0.055859    2.379235  \n",
       "17               0.431   0.1495    0.766667  1.778809  0.065455    2.438571  \n",
       "18               0.423   0.1495    0.776623  1.835989  0.068072    2.583081  \n",
       "19               0.431   0.0850    1.000000  2.320186  0.048365         inf  \n",
       "20               0.423   0.0850    0.748899  1.770446  0.036990    2.297877  \n",
       "21               0.256   0.0850    0.748899  2.925385  0.055944    2.962947  \n",
       "22               0.423   0.0900    0.853081  2.016739  0.045373    3.927323  \n",
       "23               0.423   0.0950    0.769231  1.818512  0.042760    2.500333  \n",
       "24               0.423   0.1045    0.788679  1.864490  0.048452    2.730446  \n",
       "25               0.423   0.0760    0.849162  2.007475  0.038142    3.825296  \n",
       "26               0.423   0.0940    0.850679  2.011061  0.047259    3.864152  \n",
       "27               0.423   0.1020    0.800000  1.891253  0.048067    2.885000  \n",
       "28               0.423   0.0525    0.820312  1.939273  0.025428    3.211130  \n",
       "29               0.431   0.0950    0.822511  1.908378  0.045220    3.205829  \n",
       "30               0.431   0.0775    0.803109  1.863362  0.035908    2.889921  \n",
       "31               0.431   0.0810    0.801980  1.860743  0.037469    2.873450  \n",
       "32               0.431   0.0970    0.804979  1.867701  0.045065    2.917638  \n",
       "33               0.431   0.0590    1.000000  2.320186  0.033571         inf  \n",
       "34               0.431   0.0845    0.800948  1.858348  0.039030    2.858548  \n",
       "35               0.431   0.1015    0.821862  1.906873  0.048272    3.194159  \n",
       "36               0.431   0.1085    0.818868  1.899926  0.051392    3.141354  \n",
       "37               0.431   0.0585    1.000000  2.320186  0.033287         inf  \n",
       "38               0.431   0.0700    0.782123  1.814670  0.031426    2.611564  \n",
       "39               0.431   0.0890    0.805430  1.868747  0.041374    2.924395  \n",
       "40               0.431   0.1035    0.811765  1.883445  0.048547    3.022812  \n",
       "41               0.431   0.0565    1.000000  2.320186  0.032148         inf  \n",
       "42               0.431   0.0640    1.000000  2.320186  0.036416         inf  "
      ]
     },
     "execution_count": 23,
     "metadata": {},
     "output_type": "execute_result"
    }
   ],
   "source": [
    "rules = association_rules(freq_item, metric='confidence', min_threshold=0.7)\n",
    "rules"
   ]
  },
  {
   "cell_type": "code",
   "execution_count": 24,
   "metadata": {
    "colab": {
     "base_uri": "https://localhost:8080/",
     "height": 204
    },
    "id": "58eWbRyubzr9",
    "outputId": "d2ec01a9-5ff1-4300-fe67-5cf2ecf74742"
   },
   "outputs": [
    {
     "data": {
      "text/html": [
       "<div>\n",
       "<style scoped>\n",
       "    .dataframe tbody tr th:only-of-type {\n",
       "        vertical-align: middle;\n",
       "    }\n",
       "\n",
       "    .dataframe tbody tr th {\n",
       "        vertical-align: top;\n",
       "    }\n",
       "\n",
       "    .dataframe thead th {\n",
       "        text-align: right;\n",
       "    }\n",
       "</style>\n",
       "<table border=\"1\" class=\"dataframe\">\n",
       "  <thead>\n",
       "    <tr style=\"text-align: right;\">\n",
       "      <th></th>\n",
       "      <th>antecedents</th>\n",
       "      <th>consequents</th>\n",
       "      <th>antecedent support</th>\n",
       "      <th>consequent support</th>\n",
       "      <th>support</th>\n",
       "      <th>confidence</th>\n",
       "      <th>lift</th>\n",
       "      <th>leverage</th>\n",
       "      <th>conviction</th>\n",
       "    </tr>\n",
       "  </thead>\n",
       "  <tbody>\n",
       "    <tr>\n",
       "      <th>42</th>\n",
       "      <td>(GeogBks, ItalCook)</td>\n",
       "      <td>(CookBks)</td>\n",
       "      <td>0.0640</td>\n",
       "      <td>0.431</td>\n",
       "      <td>0.0640</td>\n",
       "      <td>1.0</td>\n",
       "      <td>2.320186</td>\n",
       "      <td>0.036416</td>\n",
       "      <td>inf</td>\n",
       "    </tr>\n",
       "    <tr>\n",
       "      <th>37</th>\n",
       "      <td>(ItalCook, DoItYBks)</td>\n",
       "      <td>(CookBks)</td>\n",
       "      <td>0.0585</td>\n",
       "      <td>0.431</td>\n",
       "      <td>0.0585</td>\n",
       "      <td>1.0</td>\n",
       "      <td>2.320186</td>\n",
       "      <td>0.033287</td>\n",
       "      <td>inf</td>\n",
       "    </tr>\n",
       "    <tr>\n",
       "      <th>41</th>\n",
       "      <td>(ItalCook, ArtBks)</td>\n",
       "      <td>(CookBks)</td>\n",
       "      <td>0.0565</td>\n",
       "      <td>0.431</td>\n",
       "      <td>0.0565</td>\n",
       "      <td>1.0</td>\n",
       "      <td>2.320186</td>\n",
       "      <td>0.032148</td>\n",
       "      <td>inf</td>\n",
       "    </tr>\n",
       "    <tr>\n",
       "      <th>4</th>\n",
       "      <td>(ItalCook)</td>\n",
       "      <td>(CookBks)</td>\n",
       "      <td>0.1135</td>\n",
       "      <td>0.431</td>\n",
       "      <td>0.1135</td>\n",
       "      <td>1.0</td>\n",
       "      <td>2.320186</td>\n",
       "      <td>0.064582</td>\n",
       "      <td>inf</td>\n",
       "    </tr>\n",
       "    <tr>\n",
       "      <th>33</th>\n",
       "      <td>(YouthBks, ItalCook)</td>\n",
       "      <td>(CookBks)</td>\n",
       "      <td>0.0590</td>\n",
       "      <td>0.431</td>\n",
       "      <td>0.0590</td>\n",
       "      <td>1.0</td>\n",
       "      <td>2.320186</td>\n",
       "      <td>0.033571</td>\n",
       "      <td>inf</td>\n",
       "    </tr>\n",
       "  </tbody>\n",
       "</table>\n",
       "</div>"
      ],
      "text/plain": [
       "             antecedents consequents  antecedent support  consequent support  \\\n",
       "42   (GeogBks, ItalCook)   (CookBks)              0.0640               0.431   \n",
       "37  (ItalCook, DoItYBks)   (CookBks)              0.0585               0.431   \n",
       "41    (ItalCook, ArtBks)   (CookBks)              0.0565               0.431   \n",
       "4             (ItalCook)   (CookBks)              0.1135               0.431   \n",
       "33  (YouthBks, ItalCook)   (CookBks)              0.0590               0.431   \n",
       "\n",
       "    support  confidence      lift  leverage  conviction  \n",
       "42   0.0640         1.0  2.320186  0.036416         inf  \n",
       "37   0.0585         1.0  2.320186  0.033287         inf  \n",
       "41   0.0565         1.0  2.320186  0.032148         inf  \n",
       "4    0.1135         1.0  2.320186  0.064582         inf  \n",
       "33   0.0590         1.0  2.320186  0.033571         inf  "
      ]
     },
     "execution_count": 24,
     "metadata": {},
     "output_type": "execute_result"
    }
   ],
   "source": [
    "# top 5 rules by confidence\n",
    "\n",
    "rules.sort_values('confidence', ascending=False).head(5)"
   ]
  },
  {
   "cell_type": "code",
   "execution_count": 25,
   "metadata": {
    "colab": {
     "base_uri": "https://localhost:8080/",
     "height": 111
    },
    "id": "Df5LriqwcGtq",
    "outputId": "a4144980-4906-4580-ac43-5f933301ac08"
   },
   "outputs": [
    {
     "data": {
      "text/html": [
       "<div>\n",
       "<style scoped>\n",
       "    .dataframe tbody tr th:only-of-type {\n",
       "        vertical-align: middle;\n",
       "    }\n",
       "\n",
       "    .dataframe tbody tr th {\n",
       "        vertical-align: top;\n",
       "    }\n",
       "\n",
       "    .dataframe thead th {\n",
       "        text-align: right;\n",
       "    }\n",
       "</style>\n",
       "<table border=\"1\" class=\"dataframe\">\n",
       "  <thead>\n",
       "    <tr style=\"text-align: right;\">\n",
       "      <th></th>\n",
       "      <th>antecedents</th>\n",
       "      <th>consequents</th>\n",
       "      <th>antecedent support</th>\n",
       "      <th>consequent support</th>\n",
       "      <th>support</th>\n",
       "      <th>confidence</th>\n",
       "      <th>lift</th>\n",
       "      <th>leverage</th>\n",
       "      <th>conviction</th>\n",
       "    </tr>\n",
       "  </thead>\n",
       "  <tbody>\n",
       "    <tr>\n",
       "      <th>0</th>\n",
       "      <td>(ChildBks)</td>\n",
       "      <td>(CookBks)</td>\n",
       "      <td>0.423</td>\n",
       "      <td>0.431</td>\n",
       "      <td>0.256</td>\n",
       "      <td>0.605201</td>\n",
       "      <td>1.404179</td>\n",
       "      <td>0.073687</td>\n",
       "      <td>1.441240</td>\n",
       "    </tr>\n",
       "    <tr>\n",
       "      <th>1</th>\n",
       "      <td>(CookBks)</td>\n",
       "      <td>(ChildBks)</td>\n",
       "      <td>0.431</td>\n",
       "      <td>0.423</td>\n",
       "      <td>0.256</td>\n",
       "      <td>0.593968</td>\n",
       "      <td>1.404179</td>\n",
       "      <td>0.073687</td>\n",
       "      <td>1.421069</td>\n",
       "    </tr>\n",
       "  </tbody>\n",
       "</table>\n",
       "</div>"
      ],
      "text/plain": [
       "  antecedents consequents  antecedent support  consequent support  support  \\\n",
       "0  (ChildBks)   (CookBks)               0.423               0.431    0.256   \n",
       "1   (CookBks)  (ChildBks)               0.431               0.423    0.256   \n",
       "\n",
       "   confidence      lift  leverage  conviction  \n",
       "0    0.605201  1.404179  0.073687    1.441240  \n",
       "1    0.593968  1.404179  0.073687    1.421069  "
      ]
     },
     "execution_count": 25,
     "metadata": {},
     "output_type": "execute_result"
    }
   ],
   "source": [
    "rules = association_rules(freq_item, metric='support', min_threshold= 0.2)\n",
    "rules"
   ]
  },
  {
   "cell_type": "markdown",
   "metadata": {
    "id": "gbZbcsa0faud"
   },
   "source": [
    "# Visualizing Association Rules\n",
    "\n",
    "Since there are very few common points here, the visualization is not much effective."
   ]
  },
  {
   "cell_type": "code",
   "execution_count": 26,
   "metadata": {
    "colab": {
     "base_uri": "https://localhost:8080/",
     "height": 295
    },
    "id": "79aeRcoxcxdH",
    "outputId": "7389be9c-a957-48c9-df0b-7674274b3dfd"
   },
   "outputs": [
    {
     "data": {
      "image/png": "[encoded data removed]",
      "text/plain": [
       "<Figure size 432x288 with 1 Axes>"
      ]
     },
     "metadata": {
      "needs_background": "light"
     },
     "output_type": "display_data"
    }
   ],
   "source": [
    "# Support vs Confidence\n",
    "\n",
    "\n",
    "plt.scatter(rules['support'], rules['confidence'])\n",
    "plt.xlabel('support')\n",
    "plt.ylabel('confidence')\n",
    "plt.title('Support vs Confidence')\n",
    "plt.show()"
   ]
  },
  {
   "cell_type": "code",
   "execution_count": 27,
   "metadata": {
    "colab": {
     "base_uri": "https://localhost:8080/",
     "height": 295
    },
    "id": "FTFRctPadT14",
    "outputId": "2990e1f5-86b9-4160-fe9f-2cbf0ca13a80"
   },
   "outputs": [
    {
     "data": {
      "image/png": "[encoded data removed]",
      "text/plain": [
       "<Figure size 432x288 with 1 Axes>"
      ]
     },
     "metadata": {
      "needs_background": "light"
     },
     "output_type": "display_data"
    }
   ],
   "source": [
    "# Support vs Lift\n",
    "\n",
    "plt.scatter(rules['support'], rules['lift'])\n",
    "plt.xlabel('support')\n",
    "plt.ylabel('lift')\n",
    "plt.title('Support vs Confidence')\n",
    "plt.show()"
   ]
  },
  {
   "cell_type": "code",
   "execution_count": 29,
   "metadata": {
    "colab": {
     "base_uri": "https://localhost:8080/",
     "height": 333
    },
    "id": "5o0VWX-NdvpV",
    "outputId": "5cf0d877-3f2f-4851-ba7c-63a33625013c"
   },
   "outputs": [
    {
     "data": {
      "image/png": "[encoded data removed]",
      "text/plain": [
       "<Figure size 432x288 with 1 Axes>"
      ]
     },
     "metadata": {
      "needs_background": "light"
     },
     "output_type": "display_data"
    }
   ],
   "source": [
    "# Lift vs Confidence\n",
    "\n",
    "plt.scatter(rules['lift'], rules['confidence'])\n",
    "plt.xlabel('lift')\n",
    "plt.ylabel('confidence')\n",
    "plt.title('Lift vs Confidence')\n",
    "plt.show()"
   ]
  },
  {
   "cell_type": "code",
   "execution_count": null,
   "metadata": {
    "id": "AYFm4V7HexiS"
   },
   "outputs": [],
   "source": []
  },
  {
   "cell_type": "code",
   "execution_count": null,
   "metadata": {},
   "outputs": [],
   "source": []
  }
 ],
 "metadata": {
  "colab": {
   "name": "excelR_Association_book.ipynb",
   "provenance": []
  },
  "kernelspec": {
   "display_name": "Python 3",
   "language": "python",
   "name": "python3"
  },
  "language_info": {
   "codemirror_mode": {
    "name": "ipython",
    "version": 3
   },
   "file_extension": ".py",
   "mimetype": "text/x-python",
   "name": "python",
   "nbconvert_exporter": "python",
   "pygments_lexer": "ipython3",
   "version": "3.7.6"
  }
 },
 "nbformat": 4,
 "nbformat_minor": 1
}
