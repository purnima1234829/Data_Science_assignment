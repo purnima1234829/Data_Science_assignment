{
  "nbformat": 4,
  "nbformat_minor": 0,
  "metadata": {
    "colab": {
      "name": "NN_Gasturbing_final.ipynb",
      "provenance": [],
      "collapsed_sections": []
    },
    "kernelspec": {
      "name": "python3",
      "display_name": "Python 3"
    },
    "language_info": {
      "name": "python"
    }
  },
  "cells": [
    {
      "cell_type": "markdown",
      "metadata": {
        "id": "kWWw5oplnrAf"
      },
      "source": [
        "#### The dataset contains 15039 instances of 11 sensor measures aggregated over one hour (by means of average or sum) from a gas turbine. \n",
        "\n",
        "#### The Dataset includes gas turbine parameters (such as Turbine Inlet Temperature and Compressor Discharge pressure) in addition to the ambient variables.\n",
        "\n",
        "\n",
        "\n",
        "#Problem statement: \n",
        "- Predicting turbine energy yield (TEY) using ambient variables as features.\n",
        "\n",
        "\n",
        "\n",
        "### Attribute Information:\n",
        "\n",
        "- The explanations of sensor measurements and their brief statistics are given below.\n",
        "\n",
        "- Variable (Abbr.) : Unit Min Max Mean\n",
        "- Ambient temperature (AT) C : â€“6.23 37.10 17.71\n",
        "- Ambient pressure (AP) mbar : 985.85 1036.56 1013.07\n",
        "- Ambient humidity (AH) (%) : 24.08 100.20 77.87\n",
        "- Air filter difference pressure (AFDP) mbar : 2.09 7.61 3.93\n",
        "- Gas turbine exhaust pressure (GTEP) mbar : 17.70 40.72 25.56\n",
        "- Turbine inlet temperature (TIT) C : 1000.85 1100.89 1081.43\n",
        "- Turbine after temperature (TAT) C : 511.04 550.61 546.16\n",
        "- Compressor discharge pressure (CDP) mbar : 9.85 15.16 12.06\n",
        "- Turbine energy yield (TEY) MWH : 100.02 179.50 133.51\n",
        "- Carbon monoxide (CO) mg/m3 : 0.00 44.10 2.37\n",
        "- Nitrogen oxides (NOx) mg/m3 : 25.90 119.91 65.29a"
      ]
    },
    {
      "cell_type": "code",
      "metadata": {
        "id": "iBI6MvrJNVVH"
      },
      "source": [
        "#import the libraries\n",
        "import pandas as pd\n",
        "import matplotlib.pyplot as plt\n",
        "import seaborn as sns\n",
        "%matplotlib inline"
      ],
      "execution_count": 8,
      "outputs": []
    },
    {
      "cell_type": "code",
      "metadata": {
        "colab": {
          "base_uri": "https://localhost:8080/",
          "height": 419
        },
        "id": "XdP4b_1qOWea",
        "outputId": "8e50637b-6559-4f26-fcc6-ca850c042761"
      },
      "source": [
        "gas_turbines=pd.read_csv('gas_turbines.csv')\n",
        "gas_turbines"
      ],
      "execution_count": 3,
      "outputs": [
        {
          "output_type": "execute_result",
          "data": {
            "text/html": [
              "<div>\n",
              "<style scoped>\n",
              "    .dataframe tbody tr th:only-of-type {\n",
              "        vertical-align: middle;\n",
              "    }\n",
              "\n",
              "    .dataframe tbody tr th {\n",
              "        vertical-align: top;\n",
              "    }\n",
              "\n",
              "    .dataframe thead th {\n",
              "        text-align: right;\n",
              "    }\n",
              "</style>\n",
              "<table border=\"1\" class=\"dataframe\">\n",
              "  <thead>\n",
              "    <tr style=\"text-align: right;\">\n",
              "      <th></th>\n",
              "      <th>AT</th>\n",
              "      <th>AP</th>\n",
              "      <th>AH</th>\n",
              "      <th>AFDP</th>\n",
              "      <th>GTEP</th>\n",
              "      <th>TIT</th>\n",
              "      <th>TAT</th>\n",
              "      <th>TEY</th>\n",
              "      <th>CDP</th>\n",
              "      <th>CO</th>\n",
              "      <th>NOX</th>\n",
              "    </tr>\n",
              "  </thead>\n",
              "  <tbody>\n",
              "    <tr>\n",
              "      <th>0</th>\n",
              "      <td>6.8594</td>\n",
              "      <td>1007.9</td>\n",
              "      <td>96.799</td>\n",
              "      <td>3.5000</td>\n",
              "      <td>19.663</td>\n",
              "      <td>1059.2</td>\n",
              "      <td>550.00</td>\n",
              "      <td>114.70</td>\n",
              "      <td>10.605</td>\n",
              "      <td>3.1547</td>\n",
              "      <td>82.722</td>\n",
              "    </tr>\n",
              "    <tr>\n",
              "      <th>1</th>\n",
              "      <td>6.7850</td>\n",
              "      <td>1008.4</td>\n",
              "      <td>97.118</td>\n",
              "      <td>3.4998</td>\n",
              "      <td>19.728</td>\n",
              "      <td>1059.3</td>\n",
              "      <td>550.00</td>\n",
              "      <td>114.72</td>\n",
              "      <td>10.598</td>\n",
              "      <td>3.2363</td>\n",
              "      <td>82.776</td>\n",
              "    </tr>\n",
              "    <tr>\n",
              "      <th>2</th>\n",
              "      <td>6.8977</td>\n",
              "      <td>1008.8</td>\n",
              "      <td>95.939</td>\n",
              "      <td>3.4824</td>\n",
              "      <td>19.779</td>\n",
              "      <td>1059.4</td>\n",
              "      <td>549.87</td>\n",
              "      <td>114.71</td>\n",
              "      <td>10.601</td>\n",
              "      <td>3.2012</td>\n",
              "      <td>82.468</td>\n",
              "    </tr>\n",
              "    <tr>\n",
              "      <th>3</th>\n",
              "      <td>7.0569</td>\n",
              "      <td>1009.2</td>\n",
              "      <td>95.249</td>\n",
              "      <td>3.4805</td>\n",
              "      <td>19.792</td>\n",
              "      <td>1059.6</td>\n",
              "      <td>549.99</td>\n",
              "      <td>114.72</td>\n",
              "      <td>10.606</td>\n",
              "      <td>3.1923</td>\n",
              "      <td>82.670</td>\n",
              "    </tr>\n",
              "    <tr>\n",
              "      <th>4</th>\n",
              "      <td>7.3978</td>\n",
              "      <td>1009.7</td>\n",
              "      <td>95.150</td>\n",
              "      <td>3.4976</td>\n",
              "      <td>19.765</td>\n",
              "      <td>1059.7</td>\n",
              "      <td>549.98</td>\n",
              "      <td>114.72</td>\n",
              "      <td>10.612</td>\n",
              "      <td>3.2484</td>\n",
              "      <td>82.311</td>\n",
              "    </tr>\n",
              "    <tr>\n",
              "      <th>...</th>\n",
              "      <td>...</td>\n",
              "      <td>...</td>\n",
              "      <td>...</td>\n",
              "      <td>...</td>\n",
              "      <td>...</td>\n",
              "      <td>...</td>\n",
              "      <td>...</td>\n",
              "      <td>...</td>\n",
              "      <td>...</td>\n",
              "      <td>...</td>\n",
              "      <td>...</td>\n",
              "    </tr>\n",
              "    <tr>\n",
              "      <th>15034</th>\n",
              "      <td>9.0301</td>\n",
              "      <td>1005.6</td>\n",
              "      <td>98.460</td>\n",
              "      <td>3.5421</td>\n",
              "      <td>19.164</td>\n",
              "      <td>1049.7</td>\n",
              "      <td>546.21</td>\n",
              "      <td>111.61</td>\n",
              "      <td>10.400</td>\n",
              "      <td>4.5186</td>\n",
              "      <td>79.559</td>\n",
              "    </tr>\n",
              "    <tr>\n",
              "      <th>15035</th>\n",
              "      <td>7.8879</td>\n",
              "      <td>1005.9</td>\n",
              "      <td>99.093</td>\n",
              "      <td>3.5059</td>\n",
              "      <td>19.414</td>\n",
              "      <td>1046.3</td>\n",
              "      <td>543.22</td>\n",
              "      <td>111.78</td>\n",
              "      <td>10.433</td>\n",
              "      <td>4.8470</td>\n",
              "      <td>79.917</td>\n",
              "    </tr>\n",
              "    <tr>\n",
              "      <th>15036</th>\n",
              "      <td>7.2647</td>\n",
              "      <td>1006.3</td>\n",
              "      <td>99.496</td>\n",
              "      <td>3.4770</td>\n",
              "      <td>19.530</td>\n",
              "      <td>1037.7</td>\n",
              "      <td>537.32</td>\n",
              "      <td>110.19</td>\n",
              "      <td>10.483</td>\n",
              "      <td>7.9632</td>\n",
              "      <td>90.912</td>\n",
              "    </tr>\n",
              "    <tr>\n",
              "      <th>15037</th>\n",
              "      <td>7.0060</td>\n",
              "      <td>1006.8</td>\n",
              "      <td>99.008</td>\n",
              "      <td>3.4486</td>\n",
              "      <td>19.377</td>\n",
              "      <td>1043.2</td>\n",
              "      <td>541.24</td>\n",
              "      <td>110.74</td>\n",
              "      <td>10.533</td>\n",
              "      <td>6.2494</td>\n",
              "      <td>93.227</td>\n",
              "    </tr>\n",
              "    <tr>\n",
              "      <th>15038</th>\n",
              "      <td>6.9279</td>\n",
              "      <td>1007.2</td>\n",
              "      <td>97.533</td>\n",
              "      <td>3.4275</td>\n",
              "      <td>19.306</td>\n",
              "      <td>1049.9</td>\n",
              "      <td>545.85</td>\n",
              "      <td>111.58</td>\n",
              "      <td>10.583</td>\n",
              "      <td>4.9816</td>\n",
              "      <td>92.498</td>\n",
              "    </tr>\n",
              "  </tbody>\n",
              "</table>\n",
              "<p>15039 rows × 11 columns</p>\n",
              "</div>"
            ],
            "text/plain": [
              "           AT      AP      AH    AFDP  ...     TEY     CDP      CO     NOX\n",
              "0      6.8594  1007.9  96.799  3.5000  ...  114.70  10.605  3.1547  82.722\n",
              "1      6.7850  1008.4  97.118  3.4998  ...  114.72  10.598  3.2363  82.776\n",
              "2      6.8977  1008.8  95.939  3.4824  ...  114.71  10.601  3.2012  82.468\n",
              "3      7.0569  1009.2  95.249  3.4805  ...  114.72  10.606  3.1923  82.670\n",
              "4      7.3978  1009.7  95.150  3.4976  ...  114.72  10.612  3.2484  82.311\n",
              "...       ...     ...     ...     ...  ...     ...     ...     ...     ...\n",
              "15034  9.0301  1005.6  98.460  3.5421  ...  111.61  10.400  4.5186  79.559\n",
              "15035  7.8879  1005.9  99.093  3.5059  ...  111.78  10.433  4.8470  79.917\n",
              "15036  7.2647  1006.3  99.496  3.4770  ...  110.19  10.483  7.9632  90.912\n",
              "15037  7.0060  1006.8  99.008  3.4486  ...  110.74  10.533  6.2494  93.227\n",
              "15038  6.9279  1007.2  97.533  3.4275  ...  111.58  10.583  4.9816  92.498\n",
              "\n",
              "[15039 rows x 11 columns]"
            ]
          },
          "metadata": {
            "tags": []
          },
          "execution_count": 3
        }
      ]
    },
    {
      "cell_type": "code",
      "metadata": {
        "colab": {
          "base_uri": "https://localhost:8080/"
        },
        "id": "yUxjFJjFOm7D",
        "outputId": "7041ba86-4f5d-4574-846c-30501527a5cc"
      },
      "source": [
        "gas_turbines.isnull().sum()"
      ],
      "execution_count": 4,
      "outputs": [
        {
          "output_type": "execute_result",
          "data": {
            "text/plain": [
              "AT      0\n",
              "AP      0\n",
              "AH      0\n",
              "AFDP    0\n",
              "GTEP    0\n",
              "TIT     0\n",
              "TAT     0\n",
              "TEY     0\n",
              "CDP     0\n",
              "CO      0\n",
              "NOX     0\n",
              "dtype: int64"
            ]
          },
          "metadata": {
            "tags": []
          },
          "execution_count": 4
        }
      ]
    },
    {
      "cell_type": "code",
      "metadata": {
        "colab": {
          "base_uri": "https://localhost:8080/",
          "height": 317
        },
        "id": "QMo-MgqfOqtz",
        "outputId": "e3cc30fd-10fe-4f3f-fc00-1345a928ed1e"
      },
      "source": [
        "gas_turbines.describe()"
      ],
      "execution_count": 5,
      "outputs": [
        {
          "output_type": "execute_result",
          "data": {
            "text/html": [
              "<div>\n",
              "<style scoped>\n",
              "    .dataframe tbody tr th:only-of-type {\n",
              "        vertical-align: middle;\n",
              "    }\n",
              "\n",
              "    .dataframe tbody tr th {\n",
              "        vertical-align: top;\n",
              "    }\n",
              "\n",
              "    .dataframe thead th {\n",
              "        text-align: right;\n",
              "    }\n",
              "</style>\n",
              "<table border=\"1\" class=\"dataframe\">\n",
              "  <thead>\n",
              "    <tr style=\"text-align: right;\">\n",
              "      <th></th>\n",
              "      <th>AT</th>\n",
              "      <th>AP</th>\n",
              "      <th>AH</th>\n",
              "      <th>AFDP</th>\n",
              "      <th>GTEP</th>\n",
              "      <th>TIT</th>\n",
              "      <th>TAT</th>\n",
              "      <th>TEY</th>\n",
              "      <th>CDP</th>\n",
              "      <th>CO</th>\n",
              "      <th>NOX</th>\n",
              "    </tr>\n",
              "  </thead>\n",
              "  <tbody>\n",
              "    <tr>\n",
              "      <th>count</th>\n",
              "      <td>15039.000000</td>\n",
              "      <td>15039.00000</td>\n",
              "      <td>15039.000000</td>\n",
              "      <td>15039.000000</td>\n",
              "      <td>15039.000000</td>\n",
              "      <td>15039.000000</td>\n",
              "      <td>15039.000000</td>\n",
              "      <td>15039.000000</td>\n",
              "      <td>15039.000000</td>\n",
              "      <td>15039.000000</td>\n",
              "      <td>15039.000000</td>\n",
              "    </tr>\n",
              "    <tr>\n",
              "      <th>mean</th>\n",
              "      <td>17.764381</td>\n",
              "      <td>1013.19924</td>\n",
              "      <td>79.124174</td>\n",
              "      <td>4.200294</td>\n",
              "      <td>25.419061</td>\n",
              "      <td>1083.798770</td>\n",
              "      <td>545.396183</td>\n",
              "      <td>134.188464</td>\n",
              "      <td>12.102353</td>\n",
              "      <td>1.972499</td>\n",
              "      <td>68.190934</td>\n",
              "    </tr>\n",
              "    <tr>\n",
              "      <th>std</th>\n",
              "      <td>7.574323</td>\n",
              "      <td>6.41076</td>\n",
              "      <td>13.793439</td>\n",
              "      <td>0.760197</td>\n",
              "      <td>4.173916</td>\n",
              "      <td>16.527806</td>\n",
              "      <td>7.866803</td>\n",
              "      <td>15.829717</td>\n",
              "      <td>1.103196</td>\n",
              "      <td>2.222206</td>\n",
              "      <td>10.470586</td>\n",
              "    </tr>\n",
              "    <tr>\n",
              "      <th>min</th>\n",
              "      <td>0.522300</td>\n",
              "      <td>985.85000</td>\n",
              "      <td>30.344000</td>\n",
              "      <td>2.087400</td>\n",
              "      <td>17.878000</td>\n",
              "      <td>1000.800000</td>\n",
              "      <td>512.450000</td>\n",
              "      <td>100.170000</td>\n",
              "      <td>9.904400</td>\n",
              "      <td>0.000388</td>\n",
              "      <td>27.765000</td>\n",
              "    </tr>\n",
              "    <tr>\n",
              "      <th>25%</th>\n",
              "      <td>11.408000</td>\n",
              "      <td>1008.90000</td>\n",
              "      <td>69.750000</td>\n",
              "      <td>3.723900</td>\n",
              "      <td>23.294000</td>\n",
              "      <td>1079.600000</td>\n",
              "      <td>542.170000</td>\n",
              "      <td>127.985000</td>\n",
              "      <td>11.622000</td>\n",
              "      <td>0.858055</td>\n",
              "      <td>61.303500</td>\n",
              "    </tr>\n",
              "    <tr>\n",
              "      <th>50%</th>\n",
              "      <td>18.186000</td>\n",
              "      <td>1012.80000</td>\n",
              "      <td>82.266000</td>\n",
              "      <td>4.186200</td>\n",
              "      <td>25.082000</td>\n",
              "      <td>1088.700000</td>\n",
              "      <td>549.890000</td>\n",
              "      <td>133.780000</td>\n",
              "      <td>12.025000</td>\n",
              "      <td>1.390200</td>\n",
              "      <td>66.601000</td>\n",
              "    </tr>\n",
              "    <tr>\n",
              "      <th>75%</th>\n",
              "      <td>23.862500</td>\n",
              "      <td>1016.90000</td>\n",
              "      <td>90.043500</td>\n",
              "      <td>4.550900</td>\n",
              "      <td>27.184000</td>\n",
              "      <td>1096.000000</td>\n",
              "      <td>550.060000</td>\n",
              "      <td>140.895000</td>\n",
              "      <td>12.578000</td>\n",
              "      <td>2.160400</td>\n",
              "      <td>73.935500</td>\n",
              "    </tr>\n",
              "    <tr>\n",
              "      <th>max</th>\n",
              "      <td>34.929000</td>\n",
              "      <td>1034.20000</td>\n",
              "      <td>100.200000</td>\n",
              "      <td>7.610600</td>\n",
              "      <td>37.402000</td>\n",
              "      <td>1100.800000</td>\n",
              "      <td>550.610000</td>\n",
              "      <td>174.610000</td>\n",
              "      <td>15.081000</td>\n",
              "      <td>44.103000</td>\n",
              "      <td>119.890000</td>\n",
              "    </tr>\n",
              "  </tbody>\n",
              "</table>\n",
              "</div>"
            ],
            "text/plain": [
              "                 AT           AP  ...            CO           NOX\n",
              "count  15039.000000  15039.00000  ...  15039.000000  15039.000000\n",
              "mean      17.764381   1013.19924  ...      1.972499     68.190934\n",
              "std        7.574323      6.41076  ...      2.222206     10.470586\n",
              "min        0.522300    985.85000  ...      0.000388     27.765000\n",
              "25%       11.408000   1008.90000  ...      0.858055     61.303500\n",
              "50%       18.186000   1012.80000  ...      1.390200     66.601000\n",
              "75%       23.862500   1016.90000  ...      2.160400     73.935500\n",
              "max       34.929000   1034.20000  ...     44.103000    119.890000\n",
              "\n",
              "[8 rows x 11 columns]"
            ]
          },
          "metadata": {
            "tags": []
          },
          "execution_count": 5
        }
      ]
    },
    {
      "cell_type": "code",
      "metadata": {
        "colab": {
          "base_uri": "https://localhost:8080/"
        },
        "id": "lgZLhyIxO0T7",
        "outputId": "48fd66f9-8001-4c0b-a59f-5045d9df9350"
      },
      "source": [
        "gas_turbines.dtypes"
      ],
      "execution_count": 6,
      "outputs": [
        {
          "output_type": "execute_result",
          "data": {
            "text/plain": [
              "AT      float64\n",
              "AP      float64\n",
              "AH      float64\n",
              "AFDP    float64\n",
              "GTEP    float64\n",
              "TIT     float64\n",
              "TAT     float64\n",
              "TEY     float64\n",
              "CDP     float64\n",
              "CO      float64\n",
              "NOX     float64\n",
              "dtype: object"
            ]
          },
          "metadata": {
            "tags": []
          },
          "execution_count": 6
        }
      ]
    },
    {
      "cell_type": "code",
      "metadata": {
        "colab": {
          "base_uri": "https://localhost:8080/",
          "height": 504
        },
        "id": "WZhGfVOcO47D",
        "outputId": "5f93c517-c575-4f11-beeb-082b7c3d0d47"
      },
      "source": [
        "correlation = gas_turbines.corr()\n",
        "plt.figure(figsize=(12,8))\n",
        "sns.heatmap(correlation, annot=True, cmap = 'inferno')\n",
        "plt.show"
      ],
      "execution_count": 9,
      "outputs": [
        {
          "output_type": "execute_result",
          "data": {
            "text/plain": [
              "<function matplotlib.pyplot.show>"
            ]
          },
          "metadata": {
            "tags": []
          },
          "execution_count": 9
        },
        {
          "output_type": "display_data",
          "data": {
            "image/png": "[encoded data removed]",
            "text/plain": [
              "<Figure size 864x576 with 2 Axes>"
            ]
          },
          "metadata": {
            "tags": [],
            "needs_background": "light"
          }
        }
      ]
    },
    {
      "cell_type": "code",
      "metadata": {
        "colab": {
          "base_uri": "https://localhost:8080/"
        },
        "id": "8ak3Xf5SO8b4",
        "outputId": "2154c5e9-c945-4807-ed03-98cebe0c136c"
      },
      "source": [
        "from sklearn.preprocessing import StandardScaler\n",
        "scaler=StandardScaler()\n",
        "scaler.fit(gas_turbines.iloc[:,0:11])\n",
        "scaler.transform(gas_turbines.iloc[:,0:11])"
      ],
      "execution_count": 10,
      "outputs": [
        {
          "output_type": "execute_result",
          "data": {
            "text/plain": [
              "array([[-1.4397781 , -0.82664395,  1.28143632, ..., -1.35733078,\n",
              "         0.53201195,  1.3878449 ],\n",
              "       [-1.44960109, -0.74864748,  1.30456402, ..., -1.36367619,\n",
              "         0.56873344,  1.39300237],\n",
              "       [-1.43472138, -0.68625031,  1.21908576, ..., -1.36095673,\n",
              "         0.5529378 ,  1.36358566],\n",
              "       ...,\n",
              "       [-1.38626659, -1.07623263,  1.47697056, ..., -1.46792219,\n",
              "         2.69592467,  2.17006209],\n",
              "       [-1.42042259, -0.99823616,  1.44159024, ..., -1.42259784,\n",
              "         1.9246834 ,  2.391165  ],\n",
              "       [-1.43073409, -0.93583899,  1.33465179, ..., -1.37727349,\n",
              "         1.35415028,  2.32153907]])"
            ]
          },
          "metadata": {
            "tags": []
          },
          "execution_count": 10
        }
      ]
    },
    {
      "cell_type": "code",
      "metadata": {
        "colab": {
          "base_uri": "https://localhost:8080/"
        },
        "id": "qAYH5ddqO_ys",
        "outputId": "0c81dd31-e0c4-4b45-b457-d47f76dbbdc2"
      },
      "source": [
        "gas_turbines.columns"
      ],
      "execution_count": 11,
      "outputs": [
        {
          "output_type": "execute_result",
          "data": {
            "text/plain": [
              "Index(['AT', 'AP', 'AH', 'AFDP', 'GTEP', 'TIT', 'TAT', 'TEY', 'CDP', 'CO',\n",
              "       'NOX'],\n",
              "      dtype='object')"
            ]
          },
          "metadata": {
            "tags": []
          },
          "execution_count": 11
        }
      ]
    },
    {
      "cell_type": "code",
      "metadata": {
        "id": "5433FAtfPD5k"
      },
      "source": [
        "columns=['AT', 'AP', 'AH', 'AFDP', 'GTEP', 'TIT', 'TAT', 'TEY', 'CDP', 'CO','NOX']\n",
        "gas_turbine=gas_turbines[columns]"
      ],
      "execution_count": 12,
      "outputs": []
    },
    {
      "cell_type": "code",
      "metadata": {
        "id": "CGi3pW0iPGNq"
      },
      "source": [
        "input=['AT', 'AP', 'AH', 'AFDP', 'GTEP', 'TIT', 'TAT', 'CDP', 'CO','NOX']\n",
        "output=['TEY']\n",
        "\n",
        "X=gas_turbine[input]\n",
        "y=gas_turbine[output]"
      ],
      "execution_count": 13,
      "outputs": []
    },
    {
      "cell_type": "code",
      "metadata": {
        "id": "7437vBurPIc-"
      },
      "source": [
        "from sklearn.model_selection import train_test_split\n",
        "X_train,X_test,y_train,y_test= train_test_split(X,y, test_size=0.3)"
      ],
      "execution_count": 14,
      "outputs": []
    },
    {
      "cell_type": "code",
      "metadata": {
        "id": "pVsqVIkZPLFs"
      },
      "source": [
        "#Using KERAS model\n",
        "from keras.models import Sequential\n",
        "from keras.layers import Dense\n",
        "from keras.wrappers.scikit_learn import KerasRegressor"
      ],
      "execution_count": 15,
      "outputs": []
    },
    {
      "cell_type": "code",
      "metadata": {
        "id": "m8JDlMt5PT2V"
      },
      "source": [
        "#create model\n",
        "model = Sequential()\n",
        "model.add(Dense(14, input_dim=10, activation='relu'))\n",
        "model.add(Dense(10, activation='relu'))\n",
        "model.add(Dense(1, activation='linear'))"
      ],
      "execution_count": 16,
      "outputs": []
    },
    {
      "cell_type": "code",
      "metadata": {
        "id": "Qx987oiKPXJr"
      },
      "source": [
        "# Compile model\n",
        "Model=model.compile(loss='mean_squared_error', optimizer='adam', metrics=['mse'])"
      ],
      "execution_count": 19,
      "outputs": []
    },
    {
      "cell_type": "code",
      "metadata": {
        "colab": {
          "base_uri": "https://localhost:8080/"
        },
        "id": "NQrBqStwPZwt",
        "outputId": "3fe01af9-7b08-42aa-ccf7-63ab3fb26cd2"
      },
      "source": [
        "# fit the keras model on the dataset\n",
        "Model=model.fit(X_train, y_train,validation_split=0.33,epochs=100,batch_size=11)"
      ],
      "execution_count": 20,
      "outputs": [
        {
          "output_type": "stream",
          "text": [
            "Epoch 1/100\n",
            "642/642 [==============================] - 8s 3ms/step - loss: 1536.7297 - mse: 1536.7297 - val_loss: 264.2625 - val_mse: 264.2625\n",
            "Epoch 2/100\n",
            "642/642 [==============================] - 1s 2ms/step - loss: 232.4262 - mse: 232.4262 - val_loss: 180.1241 - val_mse: 180.1241\n",
            "Epoch 3/100\n",
            "642/642 [==============================] - 1s 2ms/step - loss: 162.3753 - mse: 162.3753 - val_loss: 88.4432 - val_mse: 88.4432\n",
            "Epoch 4/100\n",
            "642/642 [==============================] - 1s 2ms/step - loss: 75.0195 - mse: 75.0195 - val_loss: 20.4809 - val_mse: 20.4809\n",
            "Epoch 5/100\n",
            "642/642 [==============================] - 1s 2ms/step - loss: 17.1849 - mse: 17.1849 - val_loss: 7.3838 - val_mse: 7.3838\n",
            "Epoch 6/100\n",
            "642/642 [==============================] - 1s 2ms/step - loss: 8.2627 - mse: 8.2627 - val_loss: 4.5033 - val_mse: 4.5033\n",
            "Epoch 7/100\n",
            "642/642 [==============================] - 1s 2ms/step - loss: 5.0857 - mse: 5.0857 - val_loss: 4.5503 - val_mse: 4.5503\n",
            "Epoch 8/100\n",
            "642/642 [==============================] - 1s 2ms/step - loss: 4.1040 - mse: 4.1040 - val_loss: 2.3136 - val_mse: 2.3136\n",
            "Epoch 9/100\n",
            "642/642 [==============================] - 1s 2ms/step - loss: 3.6355 - mse: 3.6355 - val_loss: 2.3071 - val_mse: 2.3071\n",
            "Epoch 10/100\n",
            "642/642 [==============================] - 1s 2ms/step - loss: 2.4363 - mse: 2.4363 - val_loss: 2.1468 - val_mse: 2.1468\n",
            "Epoch 11/100\n",
            "642/642 [==============================] - 1s 2ms/step - loss: 2.7247 - mse: 2.7247 - val_loss: 1.7273 - val_mse: 1.7273\n",
            "Epoch 12/100\n",
            "642/642 [==============================] - 1s 2ms/step - loss: 2.2646 - mse: 2.2646 - val_loss: 4.4402 - val_mse: 4.4402\n",
            "Epoch 13/100\n",
            "642/642 [==============================] - 1s 2ms/step - loss: 2.7623 - mse: 2.7623 - val_loss: 1.5447 - val_mse: 1.5447\n",
            "Epoch 14/100\n",
            "642/642 [==============================] - 1s 2ms/step - loss: 2.4501 - mse: 2.4501 - val_loss: 1.2514 - val_mse: 1.2514\n",
            "Epoch 15/100\n",
            "642/642 [==============================] - 1s 2ms/step - loss: 2.3239 - mse: 2.3239 - val_loss: 3.2772 - val_mse: 3.2772\n",
            "Epoch 16/100\n",
            "642/642 [==============================] - 1s 2ms/step - loss: 2.5897 - mse: 2.5897 - val_loss: 3.1134 - val_mse: 3.1134\n",
            "Epoch 17/100\n",
            "642/642 [==============================] - 1s 2ms/step - loss: 2.4177 - mse: 2.4177 - val_loss: 1.7994 - val_mse: 1.7994\n",
            "Epoch 18/100\n",
            "642/642 [==============================] - 1s 2ms/step - loss: 2.1113 - mse: 2.1113 - val_loss: 1.3150 - val_mse: 1.3150\n",
            "Epoch 19/100\n",
            "642/642 [==============================] - 1s 2ms/step - loss: 1.9514 - mse: 1.9514 - val_loss: 6.7895 - val_mse: 6.7895\n",
            "Epoch 20/100\n",
            "642/642 [==============================] - 1s 2ms/step - loss: 2.3972 - mse: 2.3972 - val_loss: 1.1232 - val_mse: 1.1232\n",
            "Epoch 21/100\n",
            "642/642 [==============================] - 1s 2ms/step - loss: 1.9682 - mse: 1.9682 - val_loss: 1.8012 - val_mse: 1.8012\n",
            "Epoch 22/100\n",
            "642/642 [==============================] - 1s 2ms/step - loss: 2.1160 - mse: 2.1160 - val_loss: 5.4950 - val_mse: 5.4950\n",
            "Epoch 23/100\n",
            "642/642 [==============================] - 1s 2ms/step - loss: 1.9695 - mse: 1.9695 - val_loss: 1.8740 - val_mse: 1.8740\n",
            "Epoch 24/100\n",
            "642/642 [==============================] - 1s 2ms/step - loss: 2.0670 - mse: 2.0670 - val_loss: 2.3632 - val_mse: 2.3632\n",
            "Epoch 25/100\n",
            "642/642 [==============================] - 1s 2ms/step - loss: 2.1246 - mse: 2.1246 - val_loss: 1.1498 - val_mse: 1.1498\n",
            "Epoch 26/100\n",
            "642/642 [==============================] - 1s 2ms/step - loss: 1.8714 - mse: 1.8714 - val_loss: 1.0657 - val_mse: 1.0657\n",
            "Epoch 27/100\n",
            "642/642 [==============================] - 1s 2ms/step - loss: 1.8442 - mse: 1.8442 - val_loss: 1.1330 - val_mse: 1.1330\n",
            "Epoch 28/100\n",
            "642/642 [==============================] - 1s 2ms/step - loss: 2.1528 - mse: 2.1528 - val_loss: 1.0445 - val_mse: 1.0445\n",
            "Epoch 29/100\n",
            "642/642 [==============================] - 1s 2ms/step - loss: 1.9088 - mse: 1.9088 - val_loss: 2.2746 - val_mse: 2.2746\n",
            "Epoch 30/100\n",
            "642/642 [==============================] - 1s 2ms/step - loss: 2.1905 - mse: 2.1905 - val_loss: 1.4666 - val_mse: 1.4666\n",
            "Epoch 31/100\n",
            "642/642 [==============================] - 1s 2ms/step - loss: 2.1233 - mse: 2.1233 - val_loss: 2.5069 - val_mse: 2.5069\n",
            "Epoch 32/100\n",
            "642/642 [==============================] - 1s 2ms/step - loss: 2.1883 - mse: 2.1883 - val_loss: 2.6000 - val_mse: 2.6000\n",
            "Epoch 33/100\n",
            "642/642 [==============================] - 1s 2ms/step - loss: 1.7648 - mse: 1.7648 - val_loss: 1.1578 - val_mse: 1.1578\n",
            "Epoch 34/100\n",
            "642/642 [==============================] - 1s 2ms/step - loss: 2.1876 - mse: 2.1876 - val_loss: 1.4806 - val_mse: 1.4806\n",
            "Epoch 35/100\n",
            "642/642 [==============================] - 1s 2ms/step - loss: 1.8345 - mse: 1.8345 - val_loss: 4.8403 - val_mse: 4.8403\n",
            "Epoch 36/100\n",
            "642/642 [==============================] - 1s 2ms/step - loss: 1.7287 - mse: 1.7287 - val_loss: 3.3251 - val_mse: 3.3251\n",
            "Epoch 37/100\n",
            "642/642 [==============================] - 1s 2ms/step - loss: 2.0089 - mse: 2.0089 - val_loss: 1.1722 - val_mse: 1.1722\n",
            "Epoch 38/100\n",
            "642/642 [==============================] - 1s 2ms/step - loss: 2.1533 - mse: 2.1533 - val_loss: 12.8042 - val_mse: 12.8042\n",
            "Epoch 39/100\n",
            "642/642 [==============================] - 1s 2ms/step - loss: 2.1294 - mse: 2.1294 - val_loss: 1.1305 - val_mse: 1.1305\n",
            "Epoch 40/100\n",
            "642/642 [==============================] - 1s 2ms/step - loss: 1.8526 - mse: 1.8526 - val_loss: 1.2270 - val_mse: 1.2270\n",
            "Epoch 41/100\n",
            "642/642 [==============================] - 1s 2ms/step - loss: 1.8445 - mse: 1.8445 - val_loss: 4.2902 - val_mse: 4.2902\n",
            "Epoch 42/100\n",
            "642/642 [==============================] - 1s 2ms/step - loss: 2.1881 - mse: 2.1881 - val_loss: 11.5740 - val_mse: 11.5740\n",
            "Epoch 43/100\n",
            "642/642 [==============================] - 1s 2ms/step - loss: 2.2656 - mse: 2.2656 - val_loss: 1.0399 - val_mse: 1.0399\n",
            "Epoch 44/100\n",
            "642/642 [==============================] - 1s 2ms/step - loss: 1.6984 - mse: 1.6984 - val_loss: 1.2263 - val_mse: 1.2263\n",
            "Epoch 45/100\n",
            "642/642 [==============================] - 1s 2ms/step - loss: 2.1261 - mse: 2.1261 - val_loss: 1.2814 - val_mse: 1.2814\n",
            "Epoch 46/100\n",
            "642/642 [==============================] - 1s 2ms/step - loss: 1.9351 - mse: 1.9351 - val_loss: 2.5302 - val_mse: 2.5302\n",
            "Epoch 47/100\n",
            "642/642 [==============================] - 1s 2ms/step - loss: 1.6537 - mse: 1.6537 - val_loss: 5.7491 - val_mse: 5.7491\n",
            "Epoch 48/100\n",
            "642/642 [==============================] - 1s 2ms/step - loss: 2.2107 - mse: 2.2107 - val_loss: 3.0204 - val_mse: 3.0204\n",
            "Epoch 49/100\n",
            "642/642 [==============================] - 1s 2ms/step - loss: 2.0714 - mse: 2.0714 - val_loss: 1.9278 - val_mse: 1.9278\n",
            "Epoch 50/100\n",
            "642/642 [==============================] - 1s 2ms/step - loss: 1.8934 - mse: 1.8934 - val_loss: 1.1350 - val_mse: 1.1350\n",
            "Epoch 51/100\n",
            "642/642 [==============================] - 1s 2ms/step - loss: 1.6619 - mse: 1.6619 - val_loss: 3.7928 - val_mse: 3.7928\n",
            "Epoch 52/100\n",
            "642/642 [==============================] - 1s 2ms/step - loss: 1.8541 - mse: 1.8541 - val_loss: 2.5372 - val_mse: 2.5372\n",
            "Epoch 53/100\n",
            "642/642 [==============================] - 1s 2ms/step - loss: 2.3000 - mse: 2.3000 - val_loss: 2.0291 - val_mse: 2.0291\n",
            "Epoch 54/100\n",
            "642/642 [==============================] - 1s 2ms/step - loss: 1.6896 - mse: 1.6896 - val_loss: 6.7284 - val_mse: 6.7284\n",
            "Epoch 55/100\n",
            "642/642 [==============================] - 1s 2ms/step - loss: 1.9840 - mse: 1.9840 - val_loss: 1.2896 - val_mse: 1.2896\n",
            "Epoch 56/100\n",
            "642/642 [==============================] - 1s 2ms/step - loss: 1.9526 - mse: 1.9526 - val_loss: 1.1140 - val_mse: 1.1140\n",
            "Epoch 57/100\n",
            "642/642 [==============================] - 1s 2ms/step - loss: 1.5979 - mse: 1.5979 - val_loss: 7.9102 - val_mse: 7.9102\n",
            "Epoch 58/100\n",
            "642/642 [==============================] - 1s 2ms/step - loss: 1.8250 - mse: 1.8250 - val_loss: 6.1858 - val_mse: 6.1858\n",
            "Epoch 59/100\n",
            "642/642 [==============================] - 1s 2ms/step - loss: 1.8877 - mse: 1.8877 - val_loss: 1.1458 - val_mse: 1.1458\n",
            "Epoch 60/100\n",
            "642/642 [==============================] - 1s 2ms/step - loss: 1.7422 - mse: 1.7422 - val_loss: 2.4049 - val_mse: 2.4049\n",
            "Epoch 61/100\n",
            "642/642 [==============================] - 1s 2ms/step - loss: 1.7879 - mse: 1.7879 - val_loss: 1.1402 - val_mse: 1.1402\n",
            "Epoch 62/100\n",
            "642/642 [==============================] - 1s 2ms/step - loss: 1.6159 - mse: 1.6159 - val_loss: 1.0252 - val_mse: 1.0252\n",
            "Epoch 63/100\n",
            "642/642 [==============================] - 1s 2ms/step - loss: 1.5102 - mse: 1.5102 - val_loss: 1.6040 - val_mse: 1.6040\n",
            "Epoch 64/100\n",
            "642/642 [==============================] - 1s 2ms/step - loss: 1.6182 - mse: 1.6182 - val_loss: 1.0370 - val_mse: 1.0370\n",
            "Epoch 65/100\n",
            "642/642 [==============================] - 1s 2ms/step - loss: 1.6641 - mse: 1.6641 - val_loss: 1.0526 - val_mse: 1.0526\n",
            "Epoch 66/100\n",
            "642/642 [==============================] - 1s 2ms/step - loss: 1.8380 - mse: 1.8380 - val_loss: 1.2772 - val_mse: 1.2772\n",
            "Epoch 67/100\n",
            "642/642 [==============================] - 1s 2ms/step - loss: 1.8274 - mse: 1.8274 - val_loss: 1.0637 - val_mse: 1.0637\n",
            "Epoch 68/100\n",
            "642/642 [==============================] - 1s 2ms/step - loss: 1.7095 - mse: 1.7095 - val_loss: 1.8975 - val_mse: 1.8975\n",
            "Epoch 69/100\n",
            "642/642 [==============================] - 1s 2ms/step - loss: 1.8604 - mse: 1.8604 - val_loss: 2.6585 - val_mse: 2.6585\n",
            "Epoch 70/100\n",
            "642/642 [==============================] - 1s 2ms/step - loss: 1.8818 - mse: 1.8818 - val_loss: 1.0120 - val_mse: 1.0120\n",
            "Epoch 71/100\n",
            "642/642 [==============================] - 1s 2ms/step - loss: 1.6465 - mse: 1.6465 - val_loss: 2.2472 - val_mse: 2.2472\n",
            "Epoch 72/100\n",
            "642/642 [==============================] - 1s 2ms/step - loss: 1.5970 - mse: 1.5970 - val_loss: 2.0467 - val_mse: 2.0467\n",
            "Epoch 73/100\n",
            "642/642 [==============================] - 1s 2ms/step - loss: 1.8516 - mse: 1.8516 - val_loss: 1.0186 - val_mse: 1.0186\n",
            "Epoch 74/100\n",
            "642/642 [==============================] - 1s 2ms/step - loss: 1.6907 - mse: 1.6907 - val_loss: 1.2526 - val_mse: 1.2526\n",
            "Epoch 75/100\n",
            "642/642 [==============================] - 1s 2ms/step - loss: 1.5727 - mse: 1.5727 - val_loss: 3.0352 - val_mse: 3.0352\n",
            "Epoch 76/100\n",
            "642/642 [==============================] - 1s 2ms/step - loss: 2.1291 - mse: 2.1291 - val_loss: 1.0680 - val_mse: 1.0680\n",
            "Epoch 77/100\n",
            "642/642 [==============================] - 1s 2ms/step - loss: 1.5466 - mse: 1.5466 - val_loss: 2.3628 - val_mse: 2.3628\n",
            "Epoch 78/100\n",
            "642/642 [==============================] - 1s 2ms/step - loss: 1.9262 - mse: 1.9262 - val_loss: 4.8521 - val_mse: 4.8521\n",
            "Epoch 79/100\n",
            "642/642 [==============================] - 1s 2ms/step - loss: 2.2226 - mse: 2.2226 - val_loss: 1.2020 - val_mse: 1.2020\n",
            "Epoch 80/100\n",
            "642/642 [==============================] - 1s 2ms/step - loss: 1.6551 - mse: 1.6551 - val_loss: 2.2629 - val_mse: 2.2629\n",
            "Epoch 81/100\n",
            "642/642 [==============================] - 1s 2ms/step - loss: 1.8750 - mse: 1.8750 - val_loss: 1.0264 - val_mse: 1.0264\n",
            "Epoch 82/100\n",
            "642/642 [==============================] - 1s 2ms/step - loss: 1.6960 - mse: 1.6960 - val_loss: 4.8424 - val_mse: 4.8424\n",
            "Epoch 83/100\n",
            "642/642 [==============================] - 1s 2ms/step - loss: 2.0183 - mse: 2.0183 - val_loss: 1.0968 - val_mse: 1.0968\n",
            "Epoch 84/100\n",
            "642/642 [==============================] - 1s 2ms/step - loss: 1.5719 - mse: 1.5719 - val_loss: 6.5586 - val_mse: 6.5586\n",
            "Epoch 85/100\n",
            "642/642 [==============================] - 1s 2ms/step - loss: 1.7017 - mse: 1.7017 - val_loss: 2.2685 - val_mse: 2.2685\n",
            "Epoch 86/100\n",
            "642/642 [==============================] - 1s 2ms/step - loss: 1.9282 - mse: 1.9282 - val_loss: 1.4825 - val_mse: 1.4825\n",
            "Epoch 87/100\n",
            "642/642 [==============================] - 1s 2ms/step - loss: 1.7081 - mse: 1.7081 - val_loss: 2.1660 - val_mse: 2.1660\n",
            "Epoch 88/100\n",
            "642/642 [==============================] - 1s 2ms/step - loss: 1.6375 - mse: 1.6375 - val_loss: 1.3035 - val_mse: 1.3035\n",
            "Epoch 89/100\n",
            "642/642 [==============================] - 1s 2ms/step - loss: 1.7903 - mse: 1.7903 - val_loss: 0.9972 - val_mse: 0.9972\n",
            "Epoch 90/100\n",
            "642/642 [==============================] - 1s 2ms/step - loss: 1.7452 - mse: 1.7452 - val_loss: 1.5820 - val_mse: 1.5820\n",
            "Epoch 91/100\n",
            "642/642 [==============================] - 1s 2ms/step - loss: 1.7769 - mse: 1.7769 - val_loss: 1.2864 - val_mse: 1.2864\n",
            "Epoch 92/100\n",
            "642/642 [==============================] - 1s 2ms/step - loss: 1.7588 - mse: 1.7588 - val_loss: 1.6649 - val_mse: 1.6649\n",
            "Epoch 93/100\n",
            "642/642 [==============================] - 1s 2ms/step - loss: 1.7832 - mse: 1.7832 - val_loss: 1.2895 - val_mse: 1.2895\n",
            "Epoch 94/100\n",
            "642/642 [==============================] - 1s 2ms/step - loss: 1.4281 - mse: 1.4281 - val_loss: 0.9995 - val_mse: 0.9995\n",
            "Epoch 95/100\n",
            "642/642 [==============================] - 1s 2ms/step - loss: 1.5879 - mse: 1.5879 - val_loss: 3.7535 - val_mse: 3.7535\n",
            "Epoch 96/100\n",
            "642/642 [==============================] - 1s 2ms/step - loss: 1.5113 - mse: 1.5113 - val_loss: 1.0681 - val_mse: 1.0681\n",
            "Epoch 97/100\n",
            "642/642 [==============================] - 1s 2ms/step - loss: 1.8558 - mse: 1.8558 - val_loss: 1.7907 - val_mse: 1.7907\n",
            "Epoch 98/100\n",
            "642/642 [==============================] - 1s 2ms/step - loss: 1.5644 - mse: 1.5644 - val_loss: 1.2291 - val_mse: 1.2291\n",
            "Epoch 99/100\n",
            "642/642 [==============================] - 1s 2ms/step - loss: 1.4499 - mse: 1.4499 - val_loss: 1.0440 - val_mse: 1.0440\n",
            "Epoch 100/100\n",
            "642/642 [==============================] - 1s 2ms/step - loss: 1.4469 - mse: 1.4469 - val_loss: 1.7110 - val_mse: 1.7110\n"
          ],
          "name": "stdout"
        }
      ]
    },
    {
      "cell_type": "code",
      "metadata": {
        "id": "9OiTtL21PdEh"
      },
      "source": [
        "y_pred=model.predict(X_test)"
      ],
      "execution_count": 21,
      "outputs": []
    },
    {
      "cell_type": "code",
      "metadata": {
        "colab": {
          "base_uri": "https://localhost:8080/"
        },
        "id": "mKUEQlKAP9bi",
        "outputId": "ad31eaa5-1fec-400c-f77c-0a1f3bc96358"
      },
      "source": [
        "accuracy = model.evaluate(X_test, y_test)\n",
        "print(\"%s: %.2f%%\" % (model.metrics_names[1], accuracy[1]*100))"
      ],
      "execution_count": 22,
      "outputs": [
        {
          "output_type": "stream",
          "text": [
            "141/141 [==============================] - 0s 1ms/step - loss: 1.7613 - mse: 1.7613\n",
            "mse: 176.13%\n"
          ],
          "name": "stdout"
        }
      ]
    },
    {
      "cell_type": "code",
      "metadata": {
        "id": "CY-Wmv6lQCJW"
      },
      "source": [
        "#Getting accuracy 0% for backpropagation method, therefore applying hyperparameter method\n",
        "\n",
        "#building the new model\n",
        "def prep_model(hidden_dim):\n",
        "    model = Sequential()\n",
        "    for i in range(1,len(hidden_dim)-1):\n",
        "        if (i==1):\n",
        "            model.add(Dense(hidden_dim[i],input_dim=hidden_dim[0],activation=\"relu\"))\n",
        "        else:\n",
        "            model.add(Dense(hidden_dim[i],activation=\"relu\"))\n",
        "    model.add(Dense(hidden_dim[-1],kernel_initializer=\"normal\",activation=\"linear\"))\n",
        "    model.compile(loss=\"mean_squared_error\",optimizer = \"adam\",metrics = [\"mse\"])\n",
        "    return model  "
      ],
      "execution_count": 23,
      "outputs": []
    },
    {
      "cell_type": "code",
      "metadata": {
        "colab": {
          "base_uri": "https://localhost:8080/"
        },
        "id": "dyL2im6IUwIk",
        "outputId": "0e1a96da-84c9-4d7b-e054-ac3f81db87d7"
      },
      "source": [
        "new_model = prep_model([1])\n",
        "History=new_model.fit(X_train,y_train,epochs=150)\n",
        "pred_train = new_model.predict(X_train)"
      ],
      "execution_count": 24,
      "outputs": [
        {
          "output_type": "stream",
          "text": [
            "Epoch 1/150\n",
            "329/329 [==============================] - 8s 956us/step - loss: 13385.5961 - mse: 13385.5961\n",
            "Epoch 2/150\n",
            "329/329 [==============================] - 0s 971us/step - loss: 252.5414 - mse: 252.5414\n",
            "Epoch 3/150\n",
            "329/329 [==============================] - 0s 958us/step - loss: 239.3728 - mse: 239.3728\n",
            "Epoch 4/150\n",
            "329/329 [==============================] - 0s 1ms/step - loss: 234.6932 - mse: 234.6932\n",
            "Epoch 5/150\n",
            "329/329 [==============================] - 0s 1ms/step - loss: 225.6509 - mse: 225.6509\n",
            "Epoch 6/150\n",
            "329/329 [==============================] - 0s 998us/step - loss: 210.7768 - mse: 210.7768\n",
            "Epoch 7/150\n",
            "329/329 [==============================] - 0s 964us/step - loss: 191.2101 - mse: 191.2101\n",
            "Epoch 8/150\n",
            "329/329 [==============================] - 0s 988us/step - loss: 177.0952 - mse: 177.0952\n",
            "Epoch 9/150\n",
            "329/329 [==============================] - 0s 1ms/step - loss: 159.7035 - mse: 159.7035\n",
            "Epoch 10/150\n",
            "329/329 [==============================] - 0s 965us/step - loss: 143.7407 - mse: 143.7407\n",
            "Epoch 11/150\n",
            "329/329 [==============================] - 0s 999us/step - loss: 123.4730 - mse: 123.4730\n",
            "Epoch 12/150\n",
            "329/329 [==============================] - 0s 1ms/step - loss: 110.7675 - mse: 110.7675\n",
            "Epoch 13/150\n",
            "329/329 [==============================] - 0s 983us/step - loss: 94.8798 - mse: 94.8798\n",
            "Epoch 14/150\n",
            "329/329 [==============================] - 0s 957us/step - loss: 81.8948 - mse: 81.8948\n",
            "Epoch 15/150\n",
            "329/329 [==============================] - 0s 983us/step - loss: 69.8931 - mse: 69.8931\n",
            "Epoch 16/150\n",
            "329/329 [==============================] - 0s 968us/step - loss: 57.7775 - mse: 57.7775\n",
            "Epoch 17/150\n",
            "329/329 [==============================] - 0s 975us/step - loss: 49.2944 - mse: 49.2944\n",
            "Epoch 18/150\n",
            "329/329 [==============================] - 0s 976us/step - loss: 41.1344 - mse: 41.1344\n",
            "Epoch 19/150\n",
            "329/329 [==============================] - 0s 943us/step - loss: 31.8536 - mse: 31.8536\n",
            "Epoch 20/150\n",
            "329/329 [==============================] - 0s 975us/step - loss: 27.1239 - mse: 27.1239\n",
            "Epoch 21/150\n",
            "329/329 [==============================] - 0s 1ms/step - loss: 23.9251 - mse: 23.9251\n",
            "Epoch 22/150\n",
            "329/329 [==============================] - 0s 957us/step - loss: 18.4250 - mse: 18.4250\n",
            "Epoch 23/150\n",
            "329/329 [==============================] - 0s 959us/step - loss: 17.2932 - mse: 17.2932\n",
            "Epoch 24/150\n",
            "329/329 [==============================] - 0s 1ms/step - loss: 14.0833 - mse: 14.0833\n",
            "Epoch 25/150\n",
            "329/329 [==============================] - 0s 991us/step - loss: 12.9744 - mse: 12.9744\n",
            "Epoch 26/150\n",
            "329/329 [==============================] - 0s 989us/step - loss: 10.8997 - mse: 10.8997\n",
            "Epoch 27/150\n",
            "329/329 [==============================] - 0s 966us/step - loss: 10.5856 - mse: 10.5856\n",
            "Epoch 28/150\n",
            "329/329 [==============================] - 0s 965us/step - loss: 8.4729 - mse: 8.4729\n",
            "Epoch 29/150\n",
            "329/329 [==============================] - 0s 967us/step - loss: 8.3875 - mse: 8.3875\n",
            "Epoch 30/150\n",
            "329/329 [==============================] - 0s 966us/step - loss: 7.8833 - mse: 7.8833\n",
            "Epoch 31/150\n",
            "329/329 [==============================] - 0s 985us/step - loss: 6.7986 - mse: 6.7986\n",
            "Epoch 32/150\n",
            "329/329 [==============================] - 0s 968us/step - loss: 6.1253 - mse: 6.1253\n",
            "Epoch 33/150\n",
            "329/329 [==============================] - 0s 999us/step - loss: 5.5501 - mse: 5.5501\n",
            "Epoch 34/150\n",
            "329/329 [==============================] - 0s 1ms/step - loss: 4.9900 - mse: 4.9900\n",
            "Epoch 35/150\n",
            "329/329 [==============================] - 0s 978us/step - loss: 4.5868 - mse: 4.5868\n",
            "Epoch 36/150\n",
            "329/329 [==============================] - 0s 1ms/step - loss: 4.3612 - mse: 4.3612\n",
            "Epoch 37/150\n",
            "329/329 [==============================] - 0s 1ms/step - loss: 4.2678 - mse: 4.2678\n",
            "Epoch 38/150\n",
            "329/329 [==============================] - 0s 1ms/step - loss: 3.7115 - mse: 3.7115\n",
            "Epoch 39/150\n",
            "329/329 [==============================] - 0s 976us/step - loss: 3.7688 - mse: 3.7688\n",
            "Epoch 40/150\n",
            "329/329 [==============================] - 0s 1ms/step - loss: 4.0856 - mse: 4.0856\n",
            "Epoch 41/150\n",
            "329/329 [==============================] - 0s 1ms/step - loss: 3.3377 - mse: 3.3377\n",
            "Epoch 42/150\n",
            "329/329 [==============================] - 0s 964us/step - loss: 3.3245 - mse: 3.3245\n",
            "Epoch 43/150\n",
            "329/329 [==============================] - 0s 984us/step - loss: 3.3534 - mse: 3.3534\n",
            "Epoch 44/150\n",
            "329/329 [==============================] - 0s 980us/step - loss: 3.2108 - mse: 3.2108\n",
            "Epoch 45/150\n",
            "329/329 [==============================] - 0s 986us/step - loss: 3.0112 - mse: 3.0112\n",
            "Epoch 46/150\n",
            "329/329 [==============================] - 0s 1ms/step - loss: 3.0361 - mse: 3.0361\n",
            "Epoch 47/150\n",
            "329/329 [==============================] - 0s 1ms/step - loss: 2.8568 - mse: 2.8568\n",
            "Epoch 48/150\n",
            "329/329 [==============================] - 0s 1ms/step - loss: 2.8727 - mse: 2.8727\n",
            "Epoch 49/150\n",
            "329/329 [==============================] - 0s 1000us/step - loss: 2.7860 - mse: 2.7860\n",
            "Epoch 50/150\n",
            "329/329 [==============================] - 0s 975us/step - loss: 2.5648 - mse: 2.5648\n",
            "Epoch 51/150\n",
            "329/329 [==============================] - 0s 995us/step - loss: 2.5583 - mse: 2.5583\n",
            "Epoch 52/150\n",
            "329/329 [==============================] - 0s 981us/step - loss: 2.5262 - mse: 2.5262\n",
            "Epoch 53/150\n",
            "329/329 [==============================] - 0s 967us/step - loss: 2.4769 - mse: 2.4769\n",
            "Epoch 54/150\n",
            "329/329 [==============================] - 0s 960us/step - loss: 2.5156 - mse: 2.5156\n",
            "Epoch 55/150\n",
            "329/329 [==============================] - 0s 1ms/step - loss: 2.2699 - mse: 2.2699\n",
            "Epoch 56/150\n",
            "329/329 [==============================] - 0s 971us/step - loss: 2.2959 - mse: 2.2959\n",
            "Epoch 57/150\n",
            "329/329 [==============================] - 0s 954us/step - loss: 2.2073 - mse: 2.2073\n",
            "Epoch 58/150\n",
            "329/329 [==============================] - 0s 995us/step - loss: 2.4419 - mse: 2.4419\n",
            "Epoch 59/150\n",
            "329/329 [==============================] - 0s 969us/step - loss: 2.1804 - mse: 2.1804\n",
            "Epoch 60/150\n",
            "329/329 [==============================] - 0s 1ms/step - loss: 2.1399 - mse: 2.1399\n",
            "Epoch 61/150\n",
            "329/329 [==============================] - 0s 1ms/step - loss: 2.1529 - mse: 2.1529\n",
            "Epoch 62/150\n",
            "329/329 [==============================] - 0s 978us/step - loss: 2.0046 - mse: 2.0046\n",
            "Epoch 63/150\n",
            "329/329 [==============================] - 0s 965us/step - loss: 1.9616 - mse: 1.9616\n",
            "Epoch 64/150\n",
            "329/329 [==============================] - 0s 1ms/step - loss: 1.8937 - mse: 1.8937\n",
            "Epoch 65/150\n",
            "329/329 [==============================] - 0s 1ms/step - loss: 1.9441 - mse: 1.9441\n",
            "Epoch 66/150\n",
            "329/329 [==============================] - 0s 1ms/step - loss: 1.8714 - mse: 1.8714\n",
            "Epoch 67/150\n",
            "329/329 [==============================] - 0s 1ms/step - loss: 1.8916 - mse: 1.8916\n",
            "Epoch 68/150\n",
            "329/329 [==============================] - 0s 1ms/step - loss: 1.9200 - mse: 1.9200\n",
            "Epoch 69/150\n",
            "329/329 [==============================] - 0s 975us/step - loss: 1.7588 - mse: 1.7588\n",
            "Epoch 70/150\n",
            "329/329 [==============================] - 0s 1ms/step - loss: 1.8796 - mse: 1.8796\n",
            "Epoch 71/150\n",
            "329/329 [==============================] - 0s 1ms/step - loss: 1.8208 - mse: 1.8208\n",
            "Epoch 72/150\n",
            "329/329 [==============================] - 0s 1ms/step - loss: 1.7802 - mse: 1.7802\n",
            "Epoch 73/150\n",
            "329/329 [==============================] - 0s 1ms/step - loss: 1.7160 - mse: 1.7160\n",
            "Epoch 74/150\n",
            "329/329 [==============================] - 0s 969us/step - loss: 1.6270 - mse: 1.6270\n",
            "Epoch 75/150\n",
            "329/329 [==============================] - 0s 1ms/step - loss: 1.7457 - mse: 1.7457\n",
            "Epoch 76/150\n",
            "329/329 [==============================] - 0s 1ms/step - loss: 1.5773 - mse: 1.5773\n",
            "Epoch 77/150\n",
            "329/329 [==============================] - 0s 1ms/step - loss: 1.7325 - mse: 1.7325\n",
            "Epoch 78/150\n",
            "329/329 [==============================] - 0s 996us/step - loss: 1.7247 - mse: 1.7247\n",
            "Epoch 79/150\n",
            "329/329 [==============================] - 0s 1ms/step - loss: 1.7119 - mse: 1.7119\n",
            "Epoch 80/150\n",
            "329/329 [==============================] - 0s 1ms/step - loss: 1.6001 - mse: 1.6001\n",
            "Epoch 81/150\n",
            "329/329 [==============================] - 0s 1ms/step - loss: 1.5509 - mse: 1.5509\n",
            "Epoch 82/150\n",
            "329/329 [==============================] - 0s 993us/step - loss: 1.5329 - mse: 1.5329\n",
            "Epoch 83/150\n",
            "329/329 [==============================] - 0s 1ms/step - loss: 1.5410 - mse: 1.5410\n",
            "Epoch 84/150\n",
            "329/329 [==============================] - 0s 966us/step - loss: 1.5668 - mse: 1.5668\n",
            "Epoch 85/150\n",
            "329/329 [==============================] - 0s 975us/step - loss: 1.5676 - mse: 1.5676\n",
            "Epoch 86/150\n",
            "329/329 [==============================] - 0s 1ms/step - loss: 1.4770 - mse: 1.4770\n",
            "Epoch 87/150\n",
            "329/329 [==============================] - 0s 998us/step - loss: 1.5973 - mse: 1.5973\n",
            "Epoch 88/150\n",
            "329/329 [==============================] - 0s 1ms/step - loss: 1.4732 - mse: 1.4732\n",
            "Epoch 89/150\n",
            "329/329 [==============================] - 0s 998us/step - loss: 1.4762 - mse: 1.4762\n",
            "Epoch 90/150\n",
            "329/329 [==============================] - 0s 990us/step - loss: 1.4837 - mse: 1.4837\n",
            "Epoch 91/150\n",
            "329/329 [==============================] - 0s 1ms/step - loss: 1.6680 - mse: 1.6680\n",
            "Epoch 92/150\n",
            "329/329 [==============================] - 0s 997us/step - loss: 1.5256 - mse: 1.5256\n",
            "Epoch 93/150\n",
            "329/329 [==============================] - 0s 981us/step - loss: 1.4362 - mse: 1.4362\n",
            "Epoch 94/150\n",
            "329/329 [==============================] - 0s 1ms/step - loss: 1.5284 - mse: 1.5284\n",
            "Epoch 95/150\n",
            "329/329 [==============================] - 0s 1ms/step - loss: 1.4206 - mse: 1.4206\n",
            "Epoch 96/150\n",
            "329/329 [==============================] - 0s 985us/step - loss: 1.3540 - mse: 1.3540\n",
            "Epoch 97/150\n",
            "329/329 [==============================] - 0s 1ms/step - loss: 1.5582 - mse: 1.5582\n",
            "Epoch 98/150\n",
            "329/329 [==============================] - 0s 1ms/step - loss: 1.5693 - mse: 1.5693\n",
            "Epoch 99/150\n",
            "329/329 [==============================] - 0s 1ms/step - loss: 1.3847 - mse: 1.3847\n",
            "Epoch 100/150\n",
            "329/329 [==============================] - 0s 1ms/step - loss: 1.3729 - mse: 1.3729\n",
            "Epoch 101/150\n",
            "329/329 [==============================] - 0s 995us/step - loss: 1.4735 - mse: 1.4735\n",
            "Epoch 102/150\n",
            "329/329 [==============================] - 0s 1ms/step - loss: 1.4822 - mse: 1.4822\n",
            "Epoch 103/150\n",
            "329/329 [==============================] - 0s 1ms/step - loss: 1.3978 - mse: 1.3978\n",
            "Epoch 104/150\n",
            "329/329 [==============================] - 0s 1ms/step - loss: 1.4423 - mse: 1.4423\n",
            "Epoch 105/150\n",
            "329/329 [==============================] - 0s 982us/step - loss: 1.3580 - mse: 1.3580\n",
            "Epoch 106/150\n",
            "329/329 [==============================] - 0s 1ms/step - loss: 1.3172 - mse: 1.3172\n",
            "Epoch 107/150\n",
            "329/329 [==============================] - 0s 959us/step - loss: 1.4231 - mse: 1.4231\n",
            "Epoch 108/150\n",
            "329/329 [==============================] - 0s 1ms/step - loss: 1.3847 - mse: 1.3847\n",
            "Epoch 109/150\n",
            "329/329 [==============================] - 0s 1ms/step - loss: 1.3971 - mse: 1.3971\n",
            "Epoch 110/150\n",
            "329/329 [==============================] - 0s 961us/step - loss: 1.4508 - mse: 1.4508\n",
            "Epoch 111/150\n",
            "329/329 [==============================] - 0s 988us/step - loss: 1.3856 - mse: 1.3856\n",
            "Epoch 112/150\n",
            "329/329 [==============================] - 0s 1ms/step - loss: 1.4861 - mse: 1.4861\n",
            "Epoch 113/150\n",
            "329/329 [==============================] - 0s 971us/step - loss: 1.3704 - mse: 1.3704\n",
            "Epoch 114/150\n",
            "329/329 [==============================] - 0s 1ms/step - loss: 1.3791 - mse: 1.3791\n",
            "Epoch 115/150\n",
            "329/329 [==============================] - 0s 1ms/step - loss: 1.3257 - mse: 1.3257\n",
            "Epoch 116/150\n",
            "329/329 [==============================] - 0s 1ms/step - loss: 1.4006 - mse: 1.4006\n",
            "Epoch 117/150\n",
            "329/329 [==============================] - 0s 1ms/step - loss: 1.3844 - mse: 1.3844\n",
            "Epoch 118/150\n",
            "329/329 [==============================] - 0s 1ms/step - loss: 1.4116 - mse: 1.4116\n",
            "Epoch 119/150\n",
            "329/329 [==============================] - 0s 980us/step - loss: 1.3263 - mse: 1.3263\n",
            "Epoch 120/150\n",
            "329/329 [==============================] - 0s 1ms/step - loss: 1.3535 - mse: 1.3535\n",
            "Epoch 121/150\n",
            "329/329 [==============================] - 0s 1ms/step - loss: 1.4573 - mse: 1.4573\n",
            "Epoch 122/150\n",
            "329/329 [==============================] - 0s 1ms/step - loss: 1.3531 - mse: 1.3531\n",
            "Epoch 123/150\n",
            "329/329 [==============================] - 0s 1ms/step - loss: 1.3806 - mse: 1.3806\n",
            "Epoch 124/150\n",
            "329/329 [==============================] - 0s 1ms/step - loss: 1.3092 - mse: 1.3092\n",
            "Epoch 125/150\n",
            "329/329 [==============================] - 0s 1ms/step - loss: 1.3943 - mse: 1.3943\n",
            "Epoch 126/150\n",
            "329/329 [==============================] - 0s 1ms/step - loss: 1.3766 - mse: 1.3766\n",
            "Epoch 127/150\n",
            "329/329 [==============================] - 0s 1ms/step - loss: 1.4233 - mse: 1.4233\n",
            "Epoch 128/150\n",
            "329/329 [==============================] - 0s 1ms/step - loss: 1.2823 - mse: 1.2823\n",
            "Epoch 129/150\n",
            "329/329 [==============================] - 0s 977us/step - loss: 1.3218 - mse: 1.3218\n",
            "Epoch 130/150\n",
            "329/329 [==============================] - 0s 1ms/step - loss: 1.2595 - mse: 1.2595\n",
            "Epoch 131/150\n",
            "329/329 [==============================] - 0s 1ms/step - loss: 1.3539 - mse: 1.3539\n",
            "Epoch 132/150\n",
            "329/329 [==============================] - 0s 1ms/step - loss: 1.3819 - mse: 1.3819\n",
            "Epoch 133/150\n",
            "329/329 [==============================] - 0s 1ms/step - loss: 1.3625 - mse: 1.3625\n",
            "Epoch 134/150\n",
            "329/329 [==============================] - 0s 1ms/step - loss: 1.2875 - mse: 1.2875\n",
            "Epoch 135/150\n",
            "329/329 [==============================] - 0s 966us/step - loss: 1.3009 - mse: 1.3009\n",
            "Epoch 136/150\n",
            "329/329 [==============================] - 0s 1ms/step - loss: 1.2936 - mse: 1.2936\n",
            "Epoch 137/150\n",
            "329/329 [==============================] - 0s 1ms/step - loss: 1.3829 - mse: 1.3829\n",
            "Epoch 138/150\n",
            "329/329 [==============================] - 0s 1ms/step - loss: 1.4290 - mse: 1.4290\n",
            "Epoch 139/150\n",
            "329/329 [==============================] - 0s 1ms/step - loss: 1.3728 - mse: 1.3728\n",
            "Epoch 140/150\n",
            "329/329 [==============================] - 0s 1ms/step - loss: 1.2228 - mse: 1.2228\n",
            "Epoch 141/150\n",
            "329/329 [==============================] - 0s 1ms/step - loss: 1.3429 - mse: 1.3429\n",
            "Epoch 142/150\n",
            "329/329 [==============================] - 0s 1ms/step - loss: 1.3564 - mse: 1.3564\n",
            "Epoch 143/150\n",
            "329/329 [==============================] - 0s 1ms/step - loss: 1.3603 - mse: 1.3603\n",
            "Epoch 144/150\n",
            "329/329 [==============================] - 0s 1ms/step - loss: 1.3393 - mse: 1.3393\n",
            "Epoch 145/150\n",
            "329/329 [==============================] - 0s 978us/step - loss: 1.3432 - mse: 1.3432\n",
            "Epoch 146/150\n",
            "329/329 [==============================] - 0s 1ms/step - loss: 1.3933 - mse: 1.3933\n",
            "Epoch 147/150\n",
            "329/329 [==============================] - 0s 1ms/step - loss: 1.3900 - mse: 1.3900\n",
            "Epoch 148/150\n",
            "329/329 [==============================] - 0s 1ms/step - loss: 1.2821 - mse: 1.2821\n",
            "Epoch 149/150\n",
            "329/329 [==============================] - 0s 1ms/step - loss: 1.3020 - mse: 1.3020\n",
            "Epoch 150/150\n",
            "329/329 [==============================] - 0s 1ms/step - loss: 1.3604 - mse: 1.3604\n"
          ],
          "name": "stdout"
        }
      ]
    },
    {
      "cell_type": "code",
      "metadata": {
        "colab": {
          "base_uri": "https://localhost:8080/"
        },
        "id": "V5aWzNH6U1Uj",
        "outputId": "b9a8966b-510c-4745-c5de-33cd400fd210"
      },
      "source": [
        "# Predicting the Test set results\n",
        "y_pred = new_model.predict(X_test)\n",
        "y_pred"
      ],
      "execution_count": 25,
      "outputs": [
        {
          "output_type": "execute_result",
          "data": {
            "text/plain": [
              "array([[122.91879],\n",
              "       [133.43884],\n",
              "       [134.31503],\n",
              "       ...,\n",
              "       [134.04172],\n",
              "       [110.86486],\n",
              "       [133.2618 ]], dtype=float32)"
            ]
          },
          "metadata": {
            "tags": []
          },
          "execution_count": 25
        }
      ]
    },
    {
      "cell_type": "code",
      "metadata": {
        "colab": {
          "base_uri": "https://localhost:8080/"
        },
        "id": "OMbtGZ3WVIp-",
        "outputId": "e689ac89-1f5c-40ba-d82b-53ba22adc832"
      },
      "source": [
        "from sklearn.metrics import r2_score\n",
        "result = r2_score(y_test, y_pred)\n",
        "print(result)"
      ],
      "execution_count": 26,
      "outputs": [
        {
          "output_type": "stream",
          "text": [
            "0.9942500832107477\n"
          ],
          "name": "stdout"
        }
      ]
    },
    {
      "cell_type": "code",
      "metadata": {
        "colab": {
          "base_uri": "https://localhost:8080/",
          "height": 295
        },
        "id": "TEb3p7pNVMTf",
        "outputId": "53acd338-2cf8-4899-d654-f2351c53cddf"
      },
      "source": [
        "#from hyperparameter method got accuracy 99%\n",
        "\n",
        "#summarize history for accuracy\n",
        "import matplotlib.pyplot as plt\n",
        "plt.plot(History.history['mse'])\n",
        "plt.title('model accuracy')\n",
        "plt.ylabel('mse')\n",
        "plt.xlabel('epoch')\n",
        "plt.legend(['train','test'], loc='upper right')\n",
        "plt.show()"
      ],
      "execution_count": 27,
      "outputs": [
        {
          "output_type": "display_data",
          "data": {
            "image/png": "[encoded data removed]",
            "text/plain": [
              "<Figure size 432x288 with 1 Axes>"
            ]
          },
          "metadata": {
            "tags": [],
            "needs_background": "light"
          }
        }
      ]
    },
    {
      "cell_type": "code",
      "metadata": {
        "colab": {
          "base_uri": "https://localhost:8080/",
          "height": 295
        },
        "id": "gdYvYdOOVuv_",
        "outputId": "762b88a1-864c-43e7-c732-77e0b482fa10"
      },
      "source": [
        "# summarize history for accuracy\n",
        "import matplotlib.pyplot as plt\n",
        "plt.plot(History.history['loss'])\n",
        "plt.title('model loss')\n",
        "plt.ylabel('mse')\n",
        "plt.xlabel('epoch')\n",
        "plt.legend(['train','test'], loc='upper right')\n",
        "plt.show()"
      ],
      "execution_count": 28,
      "outputs": [
        {
          "output_type": "display_data",
          "data": {
            "image/png": "[encoded data removed]",
            "text/plain": [
              "<Figure size 432x288 with 1 Axes>"
            ]
          },
          "metadata": {
            "tags": [],
            "needs_background": "light"
          }
        }
      ]
    },
    {
      "cell_type": "code",
      "metadata": {
        "id": "qpwdxLi0mS_m"
      },
      "source": [
        ""
      ],
      "execution_count": null,
      "outputs": []
    }
  ]
}